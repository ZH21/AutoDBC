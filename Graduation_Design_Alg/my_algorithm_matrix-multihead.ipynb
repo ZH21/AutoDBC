{
 "cells": [
  {
   "cell_type": "markdown",
   "id": "8ff9e374",
   "metadata": {},
   "source": [
    "## 1.提取DBC文件信息转为数据域分割的GroundTruth"
   ]
  },
  {
   "cell_type": "code",
   "execution_count": 1,
   "id": "0c519c7d",
   "metadata": {},
   "outputs": [],
   "source": [
    "import re\n",
    "import copy\n",
    "import numpy as np\n",
    "import pandas as pd\n",
    "import matplotlib.pyplot as plt\n",
    "node = []\n",
    "allDatas = []\n",
    "siganlList = []\n",
    "SignalsName = []\n",
    "messageName = []"
   ]
  },
  {
   "cell_type": "code",
   "execution_count": 2,
   "id": "0fcc02bf",
   "metadata": {},
   "outputs": [],
   "source": [
    "def readFile(file_name):\n",
    "    global node,allDatas,siganlList,SignalsName,messageName\n",
    "    ''' 得到dbc文件的绝对路径'''\n",
    "    filePath = file_name\n",
    "    if filePath:\n",
    "        print(filePath)\n",
    "        f = open(filePath, \"r\")  # 设置文件对象\n",
    "    else:\n",
    "        print(\"读取文件失败！\")\n",
    "        return 0\n",
    "    \"\"\"\n",
    "    NodesPattern:节点\n",
    "    MessagePattern：消息\n",
    "    SignalPattern：信号\n",
    "    \"\"\"\n",
    "    NodesPattern = re.compile(r\"BU_: (.*)\", re.S)\n",
    "    MessagePattern = re.compile(r\"BO_ (.*?) (.*?): (.*?) (.*)\", re.S)\n",
    "#     SignalPattern = re.compile('''SG_ (.*?) : (.*?)\\|(.*?)@.*? \\((.*?),(.*?)\\) \\[(.*?)\\|(.*?)\\] \"(.*?)\" (.*)''', re.S)\n",
    "    SignalPattern = re.compile('''SG_ (.*?) : (.*?)\\|(.*?)@([0-9])([+|-]) \\((.*?),(.*?)\\) \\[(.*?)\\|(.*?)\\] \"(.*?)\" (.*)''', re.S)\n",
    "    DefaultValue = '''BA_ \"GenSig(.*?)\" SG_ (\\d+) signalname (\\d+);'''\n",
    "\n",
    "    line = f.readline()\n",
    "    allDatas=[]\n",
    "    while line:\n",
    "        \"\"\" 匹配出节点 \"\"\"\n",
    "        NodesSearched = re.search(NodesPattern, line.strip())\n",
    "        if NodesSearched:\n",
    "            node = NodesSearched.group(1).split(\" \")\n",
    "            #print(node)\n",
    "        \"\"\" 匹配出消息 \"\"\"\n",
    "        MessageSearched = re.search(MessagePattern, line.strip())\n",
    "        if MessageSearched:\n",
    "            siganlList.clear()\n",
    "            \"\"\"如果匹配到了message，则获取到message的相关参数 \n",
    "             比如匹配到了NM_Message_ESC_409，则会解析出改message的一些参数构成list对象['1033', 'NM_Message_ESC_409', '8', 'ESC']\n",
    "             这四个参数分别是 messgage ID ;message name ; messgae dataLenth ,message sender\n",
    "             而且把这个list对象 加在了 siganlList 索引0的位置\n",
    "            \"\"\"\n",
    "            Message = list(MessageSearched.groups())\n",
    "            siganlList.append(Message)\n",
    "            \"\"\" 只 要 message的名字 messageName 列表中\"\"\"\n",
    "            messageName.append(Message[1])\n",
    "            \"\"\"读取下一行\"\"\"\n",
    "            line = f.readline()\n",
    "            \"\"\"因为有些message并没有定义signal，所以 下一行还是message\"\"\"\n",
    "            MessageSearched = re.search(MessagePattern, line.strip())\n",
    "            SignalSearched = re.search(SignalPattern, line.strip())\n",
    "            \"\"\"下一行如果不是message的内容 就一定是signal的内容了\"\"\"\n",
    "            if not MessageSearched:\n",
    "                while SignalSearched:\n",
    "                    \"\"\"获取信号的参数追加到siganlList\"\"\"\n",
    "                    signal = list(SignalSearched.groups())\n",
    "                    siganlList.append(signal)\n",
    "                    \"\"\"只获取 signal name\"\"\"\n",
    "                    SignalsName.append(signal[0])\n",
    "\n",
    "                    # 再次解析信号，直到这个message下的信号全部解析完毕\n",
    "                    line = f.readline()\n",
    "                    SignalSearched = re.search(SignalPattern, line.strip())\n",
    "           # print(siganlList)\n",
    "            c = copy.deepcopy(siganlList)\n",
    "            allDatas.append(c)\n",
    "        else:\n",
    "            line = f.readline()\n",
    "            MessageSearched = re.search(MessagePattern, line.strip())\n",
    "    f.close()  # 将文件关闭\n",
    "    return 1"
   ]
  },
  {
   "cell_type": "code",
   "execution_count": 3,
   "id": "a5ae5975",
   "metadata": {},
   "outputs": [
    {
     "data": {
      "text/plain": [
       "['D:\\\\--storage--\\\\program\\\\Code\\\\jupyter-notebook\\\\CarNetworkIDS\\\\Code\\\\MyTask\\\\My_DBC\\\\cadillac_ct6_object.dbc',\n",
       " 'D:\\\\--storage--\\\\program\\\\Code\\\\jupyter-notebook\\\\CarNetworkIDS\\\\Code\\\\MyTask\\\\My_DBC\\\\cadillac_ct6_powertrain.dbc',\n",
       " 'D:\\\\--storage--\\\\program\\\\Code\\\\jupyter-notebook\\\\CarNetworkIDS\\\\Code\\\\MyTask\\\\My_DBC\\\\gm_global_a_powertrain.dbc',\n",
       " 'D:\\\\--storage--\\\\program\\\\Code\\\\jupyter-notebook\\\\CarNetworkIDS\\\\Code\\\\MyTask\\\\My_DBC\\\\honda_civic_hatchback_ex_2017_can_generated.dbc',\n",
       " 'D:\\\\--storage--\\\\program\\\\Code\\\\jupyter-notebook\\\\CarNetworkIDS\\\\Code\\\\MyTask\\\\My_DBC\\\\honda_civic_sedan_16_diesel_2019_can_generated.dbc',\n",
       " 'D:\\\\--storage--\\\\program\\\\Code\\\\jupyter-notebook\\\\CarNetworkIDS\\\\Code\\\\MyTask\\\\My_DBC\\\\honda_civic_touring_2016_can_generated.dbc',\n",
       " 'D:\\\\--storage--\\\\program\\\\Code\\\\jupyter-notebook\\\\CarNetworkIDS\\\\Code\\\\MyTask\\\\My_DBC\\\\tesla_can.dbc',\n",
       " 'D:\\\\--storage--\\\\program\\\\Code\\\\jupyter-notebook\\\\CarNetworkIDS\\\\Code\\\\MyTask\\\\My_DBC\\\\tesla_powertrain.dbc',\n",
       " 'D:\\\\--storage--\\\\program\\\\Code\\\\jupyter-notebook\\\\CarNetworkIDS\\\\Code\\\\MyTask\\\\My_DBC\\\\tesla_radar.dbc']"
      ]
     },
     "execution_count": 3,
     "metadata": {},
     "output_type": "execute_result"
    }
   ],
   "source": [
    "import os\n",
    "file_names = []\n",
    "path = os.path.abspath('../My_DBC')\n",
    "# path = os.path.abspath('../opendbc-master/opendbc-master-delFalseData')\n",
    "# path = os.path.abspath('./opendbc-master/opendbc-master')\n",
    "dirs = os.listdir(path)                    # 获取指定路径下的文件\n",
    "for i in dirs:\n",
    "    if os.path.splitext(i)[1] == \".dbc\":\n",
    "        file_names.append(os.path.join(path,i))\n",
    "file_names"
   ]
  },
  {
   "cell_type": "markdown",
   "id": "4583de4e",
   "metadata": {},
   "source": [
    "## 2.处理原始bit数据和GroundTruth数据的函数"
   ]
  },
  {
   "cell_type": "code",
   "execution_count": 4,
   "id": "702784f1",
   "metadata": {},
   "outputs": [],
   "source": [
    "def get_id_labels(index):\n",
    "    file_name = file_names[index]\n",
    "    readFile(file_name)\n",
    "\n",
    "    # 将DBC文件中的ID(10进制数)改为ID(16进制数)\n",
    "    data_gts = {}\n",
    "    for alldata in allDatas:\n",
    "        data_gts[str(hex(int(alldata[0][0])))[2:]] = alldata\n",
    "\n",
    "    # 得到DBC文件中各ID Message对应信号位置\n",
    "    all_id_lsbs = {}\n",
    "    for k in data_gts.keys():\n",
    "        message = data_gts[k]\n",
    "        lsb_list = []\n",
    "        series = np.zeros(64)\n",
    "        message_id = message[0][0]+\"_\"+message[0][1]\n",
    "        del message[0]\n",
    "        for signal in message:\n",
    "            start = int(signal[1])\n",
    "            length = int(signal[2])\n",
    "            endianness = int(signal[3])\n",
    "            start_row = int(start / 8)\n",
    "            start_col = 8 - (start - start_row * 8) - 1\n",
    "            new_start = start_row * 8 + start_col\n",
    "            if endianness == 0:\n",
    "                new_end = new_start + length\n",
    "                cur_lsb = new_end - 1\n",
    "            if endianness == 1:\n",
    "                cur_lsb = new_start\n",
    "            lsb_list.append(cur_lsb)\n",
    "        all_id_lsbs[k] = lsb_list\n",
    "\n",
    "    # 将各ID Message的信号位置改为 0/1 label\n",
    "    all_id_labels = {}\n",
    "    for k in all_id_lsbs:\n",
    "        cur_lsb_list = all_id_lsbs[k]\n",
    "        cur_label = np.zeros(64)\n",
    "        for cur_lsb in cur_lsb_list:\n",
    "            cur_label[cur_lsb] = 1\n",
    "        all_id_labels[k] = cur_label\n",
    "    return all_id_lsbs, all_id_labels"
   ]
  },
  {
   "cell_type": "code",
   "execution_count": 5,
   "id": "63ba49c1",
   "metadata": {},
   "outputs": [],
   "source": [
    "def get_ids(id_tracedict_int, all_id_labels):\n",
    "    ids = []\n",
    "    for id in id_tracedict_int.keys():\n",
    "        if(id_tracedict_int.__contains__(id) and all_id_labels.__contains__(id)):\n",
    "            ids.append(id)\n",
    "    return ids"
   ]
  },
  {
   "cell_type": "code",
   "execution_count": 6,
   "id": "f6bad01e",
   "metadata": {},
   "outputs": [],
   "source": [
    "def get_trace(data):\n",
    "    group = data.groupby(by=\"ID\")\n",
    "    id_tracedict = {}\n",
    "    for trace in list(group):\n",
    "        id_tracedict[trace[0]] = trace[1][\"bin\"].apply(lambda x: list(x)).apply(lambda x: list(map(int, x))).tolist()\n",
    "    return id_tracedict"
   ]
  },
  {
   "cell_type": "code",
   "execution_count": 7,
   "id": "b62034f8",
   "metadata": {},
   "outputs": [],
   "source": [
    "import random\n",
    "# 设置全局的随机种子\n",
    "random.seed(100)"
   ]
  },
  {
   "cell_type": "code",
   "execution_count": 8,
   "id": "110411d2",
   "metadata": {},
   "outputs": [],
   "source": [
    "def get_trace_data_dict(cur_ids, id_tracedict_int, all_id_labels, trace_data_dict, trace_label_dict): \n",
    "    for id in cur_ids:\n",
    "        trace_data_dict[id] = id_tracedict_int[id]\n",
    "        trace_label_dict[id] = all_id_labels[id]"
   ]
  },
  {
   "cell_type": "markdown",
   "id": "902fd7cd",
   "metadata": {},
   "source": [
    "## 3.综合Honda和Cadillac数据，得到训练集和测试集（包括0/1Label）"
   ]
  },
  {
   "cell_type": "markdown",
   "id": "d45c577f",
   "metadata": {},
   "source": [
    "#### 得到label"
   ]
  },
  {
   "cell_type": "code",
   "execution_count": 9,
   "id": "a5fc9282",
   "metadata": {},
   "outputs": [
    {
     "name": "stdout",
     "output_type": "stream",
     "text": [
      "D:\\--storage--\\program\\Code\\jupyter-notebook\\CarNetworkIDS\\Code\\MyTask\\My_DBC\\honda_civic_hatchback_ex_2017_can_generated.dbc\n",
      "D:\\--storage--\\program\\Code\\jupyter-notebook\\CarNetworkIDS\\Code\\MyTask\\My_DBC\\honda_civic_sedan_16_diesel_2019_can_generated.dbc\n",
      "D:\\--storage--\\program\\Code\\jupyter-notebook\\CarNetworkIDS\\Code\\MyTask\\My_DBC\\honda_civic_touring_2016_can_generated.dbc\n"
     ]
    }
   ],
   "source": [
    "# 合并所有Honda车的Ground Truth的 0/1 label\n",
    "all_id_lsbs3, dict3 = get_id_labels(3)\n",
    "all_id_lsbs4, dict4 = get_id_labels(4)\n",
    "all_id_lsbs5, dict5 = get_id_labels(5)\n",
    "honda_id_labels = dict()\n",
    "for key in dict3.keys() | dict4.keys() | dict5.keys():\n",
    "    for d in (dict3, dict4, dict5):\n",
    "        if d.__contains__(key):\n",
    "            honda_id_labels[key] = d[key]\n",
    "            break\n",
    "honda_id_lsb = dict()\n",
    "for key in all_id_lsbs3.keys() | all_id_lsbs4.keys() | all_id_lsbs5.keys():\n",
    "    for d in (all_id_lsbs3, all_id_lsbs4, all_id_lsbs5):\n",
    "        if d.__contains__(key):\n",
    "            honda_id_lsb[key] = d[key]\n",
    "            break"
   ]
  },
  {
   "cell_type": "code",
   "execution_count": 10,
   "id": "5c9a22fa",
   "metadata": {},
   "outputs": [
    {
     "name": "stdout",
     "output_type": "stream",
     "text": [
      "D:\\--storage--\\program\\Code\\jupyter-notebook\\CarNetworkIDS\\Code\\MyTask\\My_DBC\\cadillac_ct6_object.dbc\n",
      "D:\\--storage--\\program\\Code\\jupyter-notebook\\CarNetworkIDS\\Code\\MyTask\\My_DBC\\cadillac_ct6_powertrain.dbc\n",
      "D:\\--storage--\\program\\Code\\jupyter-notebook\\CarNetworkIDS\\Code\\MyTask\\My_DBC\\gm_global_a_powertrain.dbc\n"
     ]
    }
   ],
   "source": [
    "# 合并所有Cadillac以及Chevy车的Ground Truth的 0/1 label\n",
    "all_id_lsbs0, dict0 = get_id_labels(0)\n",
    "all_id_lsbs1, dict1 = get_id_labels(1)\n",
    "all_id_lsbs2, dict2 = get_id_labels(2)\n",
    "cadillac_id_labels = dict()\n",
    "for key in dict0.keys() | dict1.keys() | dict2.keys():\n",
    "    for d in (dict0, dict1, dict2):\n",
    "        if d.__contains__(key):\n",
    "            cadillac_id_labels[key] = d[key]\n",
    "            break\n",
    "cadillac_id_lsb = dict()\n",
    "for key in all_id_lsbs0.keys() | all_id_lsbs1.keys() | all_id_lsbs2.keys():\n",
    "    for d in (all_id_lsbs0, all_id_lsbs1, all_id_lsbs2):\n",
    "        if d.__contains__(key):\n",
    "            cadillac_id_lsb[key] = d[key]\n",
    "            break"
   ]
  },
  {
   "cell_type": "code",
   "execution_count": 11,
   "id": "6f683a03",
   "metadata": {},
   "outputs": [
    {
     "name": "stdout",
     "output_type": "stream",
     "text": [
      "D:\\--storage--\\program\\Code\\jupyter-notebook\\CarNetworkIDS\\Code\\MyTask\\My_DBC\\cadillac_ct6_object.dbc\n",
      "D:\\--storage--\\program\\Code\\jupyter-notebook\\CarNetworkIDS\\Code\\MyTask\\My_DBC\\cadillac_ct6_powertrain.dbc\n",
      "D:\\--storage--\\program\\Code\\jupyter-notebook\\CarNetworkIDS\\Code\\MyTask\\My_DBC\\gm_global_a_powertrain.dbc\n"
     ]
    }
   ],
   "source": [
    "# 合并所有Cadillac以及Chevy车的Ground Truth的 0/1 label\n",
    "all_id_lsbs0, dict0 = get_id_labels(0)\n",
    "all_id_lsbs1, dict1 = get_id_labels(1)\n",
    "all_id_lsbs2, dict2 = get_id_labels(2)\n",
    "chevy_id_labels = dict()\n",
    "for key in dict0.keys() | dict1.keys() | dict2.keys():\n",
    "    for d in (dict0, dict1, dict2):\n",
    "        if d.__contains__(key):\n",
    "            chevy_id_labels[key] = d[key]\n",
    "            break\n",
    "chevy_id_lsb = dict()\n",
    "for key in all_id_lsbs0.keys() | all_id_lsbs1.keys() | all_id_lsbs2.keys():\n",
    "    for d in (all_id_lsbs0, all_id_lsbs1, all_id_lsbs2):\n",
    "        if d.__contains__(key):\n",
    "            chevy_id_lsb[key] = d[key]\n",
    "            break"
   ]
  },
  {
   "cell_type": "code",
   "execution_count": 12,
   "id": "52ab46a7",
   "metadata": {
    "scrolled": false
   },
   "outputs": [],
   "source": [
    "def plt_data_flip_dict(train_data_dict, train_label_dict):\n",
    "    for id in train_data_dict.keys():\n",
    "        messagelist = train_data_dict[id]\n",
    "        trace_len = len(messagelist)\n",
    "        bit_flip = np.zeros(64)\n",
    "        previous = messagelist[0]\n",
    "        for item in messagelist:\n",
    "            for ix in range(64):\n",
    "                if item[ix] != previous[ix]:\n",
    "                    bit_flip[ix] = bit_flip[ix] + 1\n",
    "            previous = item\n",
    "        for ix in range(64):\n",
    "            bit_flip[ix] = bit_flip[ix] / trace_len\n",
    "    #     print(\"--------------------------------------------------------------------------------------------------------\")\n",
    "    #     print(id+\": \")\n",
    "        fig = plt.figure(figsize=(8,3))\n",
    "        plt.bar(np.arange(64),bit_flip)\n",
    "        plt.bar(np.arange(64),train_label_dict[id])"
   ]
  },
  {
   "cell_type": "code",
   "execution_count": 13,
   "id": "a095b1ed",
   "metadata": {},
   "outputs": [],
   "source": [
    "def clear_data_label_dict(true_train_ids, train_data_dict,train_label_dict):\n",
    "    new_train_data_dict = {}\n",
    "    new_train_label_dict = {}\n",
    "    for i in range(len(train_data_dict)):\n",
    "        if i in true_train_ids:\n",
    "            id = list(train_data_dict.keys())[i]\n",
    "            new_train_data_dict[id] = train_data_dict[id]\n",
    "            new_train_label_dict[id] = train_label_dict[id]\n",
    "    return new_train_data_dict, new_train_label_dict"
   ]
  },
  {
   "cell_type": "code",
   "execution_count": 14,
   "id": "ad19b1bb",
   "metadata": {},
   "outputs": [],
   "source": [
    "def get_true_ids(true_train_ids, train_data_dict):\n",
    "    true_ids = []\n",
    "    for i in range(len(train_data_dict)):\n",
    "        if i in true_train_ids:\n",
    "            id = list(train_data_dict.keys())[i]\n",
    "            true_ids.append(id)\n",
    "    return true_ids"
   ]
  },
  {
   "cell_type": "code",
   "execution_count": 15,
   "id": "39cefd2f",
   "metadata": {},
   "outputs": [],
   "source": [
    "def get_trace_data(id_tracedict_int, all_id_labels): \n",
    "    cur_trace_data = []\n",
    "    cur_trace_label = []\n",
    "    for id in id_tracedict_int.keys():\n",
    "        cur_trace = id_tracedict_int[id]\n",
    "        cur_label = all_id_labels[id]\n",
    "        length = len(cur_trace)\n",
    "        start = 4000\n",
    "        end = start + 1000\n",
    "        n = int((length-4000)/1000)\n",
    "        for i in range(n):\n",
    "            cur_trace_data.append(cur_trace[start: end])\n",
    "            cur_trace_label.append(cur_label)\n",
    "            start = end\n",
    "            end = start + 1000\n",
    "    return cur_trace_data, cur_trace_label"
   ]
  },
  {
   "cell_type": "markdown",
   "id": "89f4c775",
   "metadata": {},
   "source": [
    "#### honda数据集"
   ]
  },
  {
   "cell_type": "code",
   "execution_count": 16,
   "id": "9ae72d07",
   "metadata": {},
   "outputs": [],
   "source": [
    "# 得到Honda车的子数据集数据\n",
    "data_hd = pd.read_csv('../Data/Honda_process_bin/honda001.csv')"
   ]
  },
  {
   "cell_type": "code",
   "execution_count": 17,
   "id": "ab91e541",
   "metadata": {},
   "outputs": [
    {
     "data": {
      "text/plain": [
       "(1509141, 5)"
      ]
     },
     "execution_count": 17,
     "metadata": {},
     "output_type": "execute_result"
    }
   ],
   "source": [
    "data_hd.shape"
   ]
  },
  {
   "cell_type": "code",
   "execution_count": 18,
   "id": "1c482468",
   "metadata": {},
   "outputs": [
    {
     "data": {
      "text/plain": [
       "47"
      ]
     },
     "execution_count": 18,
     "metadata": {},
     "output_type": "execute_result"
    }
   ],
   "source": [
    "len(list(data_hd.groupby(['ID'])))"
   ]
  },
  {
   "cell_type": "code",
   "execution_count": 19,
   "id": "cce7346b",
   "metadata": {},
   "outputs": [
    {
     "data": {
      "text/plain": [
       "Unnamed: 0    1492\n",
       "Timestamp     1492\n",
       "Data          1492\n",
       "bin           1492\n",
       "dtype: int64"
      ]
     },
     "execution_count": 19,
     "metadata": {},
     "output_type": "execute_result"
    }
   ],
   "source": [
    "((data_hd.groupby(['ID']).count()/1000).astype('int')).sum()"
   ]
  },
  {
   "cell_type": "code",
   "execution_count": 20,
   "id": "2f178ab1",
   "metadata": {},
   "outputs": [],
   "source": [
    "# 得到Honda车子的数据集的大Trace dict\n",
    "id_tracedict_hd = get_trace(data_hd)\n",
    "honda_ids = get_ids(id_tracedict_hd, honda_id_labels)\n",
    "honda_data_dict = {}\n",
    "honda_label_dict = {}\n",
    "get_trace_data_dict(honda_ids, id_tracedict_hd, honda_id_labels, honda_data_dict, honda_label_dict)"
   ]
  },
  {
   "cell_type": "code",
   "execution_count": 21,
   "id": "3f83a579",
   "metadata": {},
   "outputs": [
    {
     "data": {
      "text/plain": [
       "16"
      ]
     },
     "execution_count": 21,
     "metadata": {},
     "output_type": "execute_result"
    }
   ],
   "source": [
    "len(honda_ids)"
   ]
  },
  {
   "cell_type": "code",
   "execution_count": 22,
   "id": "49f5b873",
   "metadata": {},
   "outputs": [],
   "source": [
    "true_honda_ids = [1,6,7,10,12, 13]"
   ]
  },
  {
   "cell_type": "code",
   "execution_count": 23,
   "id": "b4405a65",
   "metadata": {},
   "outputs": [
    {
     "data": {
      "text/plain": [
       "['158', '1d0', '1ea', '255', '309', '324']"
      ]
     },
     "execution_count": 23,
     "metadata": {},
     "output_type": "execute_result"
    }
   ],
   "source": [
    "true_honda_idname = get_true_ids(true_honda_ids, honda_data_dict)\n",
    "true_honda_idname"
   ]
  },
  {
   "cell_type": "code",
   "execution_count": 24,
   "id": "a024cdc6",
   "metadata": {},
   "outputs": [
    {
     "data": {
      "text/plain": [
       "0    344\n",
       "1    464\n",
       "2    490\n",
       "3    597\n",
       "4    777\n",
       "5    804\n",
       "Name: wo, dtype: int64"
      ]
     },
     "execution_count": 24,
     "metadata": {},
     "output_type": "execute_result"
    }
   ],
   "source": [
    "arr = pd.DataFrame(['158', '1d0', '1ea', '255', '309', '324'],columns=[\"wo\"])\n",
    "arr['wo'].apply(lambda x: int(x, 16))\n",
    "# arr\n",
    "#   (6 0+)  (5 0+)   (2 0- 2 0+)  (9 0+) (7 0+) (7 0+) (3 0+)\n",
    "# ()"
   ]
  },
  {
   "cell_type": "code",
   "execution_count": 25,
   "id": "a1fe3497",
   "metadata": {},
   "outputs": [],
   "source": [
    "new_honda_data_dict, new_honda_label_dict = clear_data_label_dict(true_honda_ids, honda_data_dict, honda_label_dict)"
   ]
  },
  {
   "cell_type": "code",
   "execution_count": 26,
   "id": "13e94bd3",
   "metadata": {},
   "outputs": [],
   "source": [
    "honda_trace_data, honda_trace_label = get_trace_data(new_honda_data_dict, new_honda_label_dict)"
   ]
  },
  {
   "cell_type": "markdown",
   "id": "8048476d",
   "metadata": {},
   "source": [
    "#### cadillac数据集"
   ]
  },
  {
   "cell_type": "code",
   "execution_count": 27,
   "id": "25540b4e",
   "metadata": {},
   "outputs": [],
   "source": [
    "# 得到Cadillac车的子数据集数据\n",
    "data_cd = pd.read_csv('../Data/Cadillac_process_bin/001.txt.csv')"
   ]
  },
  {
   "cell_type": "code",
   "execution_count": 28,
   "id": "f95b1e31",
   "metadata": {},
   "outputs": [
    {
     "data": {
      "text/plain": [
       "(1521400, 5)"
      ]
     },
     "execution_count": 28,
     "metadata": {},
     "output_type": "execute_result"
    }
   ],
   "source": [
    "data_cd.shape"
   ]
  },
  {
   "cell_type": "code",
   "execution_count": 29,
   "id": "a8f0569e",
   "metadata": {},
   "outputs": [
    {
     "data": {
      "text/plain": [
       "152"
      ]
     },
     "execution_count": 29,
     "metadata": {},
     "output_type": "execute_result"
    }
   ],
   "source": [
    "len(list(data_cd.groupby(['ID'])))"
   ]
  },
  {
   "cell_type": "code",
   "execution_count": 30,
   "id": "229c2d3f",
   "metadata": {},
   "outputs": [
    {
     "data": {
      "text/plain": [
       "Unnamed: 0    1473\n",
       "Timestamp     1473\n",
       "Data          1473\n",
       "bin           1473\n",
       "dtype: int64"
      ]
     },
     "execution_count": 30,
     "metadata": {},
     "output_type": "execute_result"
    }
   ],
   "source": [
    "((data_cd.groupby(['ID']).count()/1000).astype('int')).sum()"
   ]
  },
  {
   "cell_type": "code",
   "execution_count": 31,
   "id": "12719425",
   "metadata": {},
   "outputs": [],
   "source": [
    "# 得到Honda车子的数据集的大Trace dict\n",
    "id_tracedict_cd = get_trace(data_cd)\n",
    "cadillac_ids = get_ids(id_tracedict_cd, cadillac_id_labels)\n",
    "cadillac_data_dict = {}\n",
    "cadillac_label_dict = {}\n",
    "get_trace_data_dict(cadillac_ids, id_tracedict_cd, cadillac_id_labels, cadillac_data_dict, cadillac_label_dict)"
   ]
  },
  {
   "cell_type": "code",
   "execution_count": 32,
   "id": "761218f1",
   "metadata": {},
   "outputs": [
    {
     "data": {
      "text/plain": [
       "50"
      ]
     },
     "execution_count": 32,
     "metadata": {},
     "output_type": "execute_result"
    }
   ],
   "source": [
    "len(cadillac_ids)"
   ]
  },
  {
   "cell_type": "code",
   "execution_count": 33,
   "id": "0bb999f1",
   "metadata": {},
   "outputs": [],
   "source": [
    "true_cadillac_ids = [8,9,10,11,15,19,21,26,27]"
   ]
  },
  {
   "cell_type": "code",
   "execution_count": 34,
   "id": "55352c39",
   "metadata": {},
   "outputs": [
    {
     "data": {
      "text/plain": [
       "['17d', '180', '184', '1a1', '1e5', '260', '262', '348', '34a']"
      ]
     },
     "execution_count": 34,
     "metadata": {},
     "output_type": "execute_result"
    }
   ],
   "source": [
    "true_cadillac_idname = get_true_ids(true_cadillac_ids, cadillac_data_dict)\n",
    "true_cadillac_idname"
   ]
  },
  {
   "cell_type": "code",
   "execution_count": 35,
   "id": "67a89999",
   "metadata": {},
   "outputs": [
    {
     "data": {
      "text/plain": [
       "0    381\n",
       "1    384\n",
       "2    388\n",
       "3    417\n",
       "4    485\n",
       "5    608\n",
       "6    610\n",
       "7    840\n",
       "8    842\n",
       "Name: wo, dtype: int64"
      ]
     },
     "execution_count": 35,
     "metadata": {},
     "output_type": "execute_result"
    }
   ],
   "source": [
    "arr = pd.DataFrame(['17d', '180', '184', '1a1', '1e5', '260', '262', '348', '34a'],columns=[\"wo\"])\n",
    "arr['wo'].apply(lambda x: int(x, 16))"
   ]
  },
  {
   "cell_type": "code",
   "execution_count": 36,
   "id": "b05be3f1",
   "metadata": {},
   "outputs": [],
   "source": [
    "new_cadillac_data_dict, new_cadillac_label_dict = clear_data_label_dict(true_cadillac_ids, cadillac_data_dict, cadillac_label_dict)"
   ]
  },
  {
   "cell_type": "code",
   "execution_count": 37,
   "id": "fd0181e7",
   "metadata": {},
   "outputs": [],
   "source": [
    "cadillac_trace_data, cadillac_trace_label = get_trace_data(new_cadillac_data_dict, new_cadillac_label_dict)"
   ]
  },
  {
   "cell_type": "markdown",
   "id": "c0586f5f",
   "metadata": {},
   "source": [
    "#### chevy数据集"
   ]
  },
  {
   "cell_type": "code",
   "execution_count": 38,
   "id": "180743fa",
   "metadata": {},
   "outputs": [],
   "source": [
    "# 得到Chevy车的子数据集数据\n",
    "data_ch = pd.read_csv('../Data/Chevy_process_bin/chevy001.csv')"
   ]
  },
  {
   "cell_type": "code",
   "execution_count": 39,
   "id": "7a4bb549",
   "metadata": {},
   "outputs": [
    {
     "data": {
      "text/plain": [
       "(1512802, 5)"
      ]
     },
     "execution_count": 39,
     "metadata": {},
     "output_type": "execute_result"
    }
   ],
   "source": [
    "data_ch.shape"
   ]
  },
  {
   "cell_type": "code",
   "execution_count": 40,
   "id": "6046717c",
   "metadata": {},
   "outputs": [
    {
     "data": {
      "text/plain": [
       "85"
      ]
     },
     "execution_count": 40,
     "metadata": {},
     "output_type": "execute_result"
    }
   ],
   "source": [
    "len(list(data_ch.groupby(['ID'])))"
   ]
  },
  {
   "cell_type": "code",
   "execution_count": 41,
   "id": "424b8fa9",
   "metadata": {},
   "outputs": [
    {
     "data": {
      "text/plain": [
       "Unnamed: 0    1479\n",
       "Timestamp     1479\n",
       "Data          1479\n",
       "bin           1479\n",
       "dtype: int64"
      ]
     },
     "execution_count": 41,
     "metadata": {},
     "output_type": "execute_result"
    }
   ],
   "source": [
    "((data_ch.groupby(['ID']).count()/1000).astype('int')).sum()"
   ]
  },
  {
   "cell_type": "code",
   "execution_count": 42,
   "id": "2e24cd7b",
   "metadata": {},
   "outputs": [],
   "source": [
    "id_tracedict_ch = get_trace(data_ch)\n",
    "chevy_ids = get_ids(id_tracedict_ch, chevy_id_labels)"
   ]
  },
  {
   "cell_type": "code",
   "execution_count": 43,
   "id": "ab790139",
   "metadata": {},
   "outputs": [
    {
     "data": {
      "text/plain": [
       "32"
      ]
     },
     "execution_count": 43,
     "metadata": {},
     "output_type": "execute_result"
    }
   ],
   "source": [
    "len(chevy_ids)"
   ]
  },
  {
   "cell_type": "code",
   "execution_count": 44,
   "id": "bf5e048c",
   "metadata": {},
   "outputs": [],
   "source": [
    "chevy_data_dict = {}\n",
    "chevy_label_dict = {}\n",
    "get_trace_data_dict(chevy_ids, id_tracedict_ch, chevy_id_labels, chevy_data_dict, chevy_label_dict)"
   ]
  },
  {
   "cell_type": "code",
   "execution_count": 45,
   "id": "0b8da496",
   "metadata": {},
   "outputs": [],
   "source": [
    "true_chevy_ids = [6,7,13,14,15,28]"
   ]
  },
  {
   "cell_type": "code",
   "execution_count": 46,
   "id": "1f2f9fa0",
   "metadata": {},
   "outputs": [
    {
     "data": {
      "text/plain": [
       "['17d', '1a1', '32a', '348', '34a', 'be']"
      ]
     },
     "execution_count": 46,
     "metadata": {},
     "output_type": "execute_result"
    }
   ],
   "source": [
    "true_chevy_idname = get_true_ids(true_chevy_ids, chevy_data_dict)\n",
    "true_chevy_idname"
   ]
  },
  {
   "cell_type": "code",
   "execution_count": 47,
   "id": "59413683",
   "metadata": {},
   "outputs": [
    {
     "data": {
      "text/plain": [
       "0    381\n",
       "1    417\n",
       "2    810\n",
       "3    840\n",
       "4    842\n",
       "5    190\n",
       "Name: wo, dtype: int64"
      ]
     },
     "execution_count": 47,
     "metadata": {},
     "output_type": "execute_result"
    }
   ],
   "source": [
    "arr = pd.DataFrame(['17d', '1a1', '32a', '348', '34a', 'be'],columns=[\"wo\"])\n",
    "arr['wo'].apply(lambda x: int(x, 16))"
   ]
  },
  {
   "cell_type": "code",
   "execution_count": 48,
   "id": "adbc422a",
   "metadata": {},
   "outputs": [],
   "source": [
    "new_checy_data_dict, new_chevy_label_dict = clear_data_label_dict(true_chevy_ids, chevy_data_dict, chevy_label_dict)"
   ]
  },
  {
   "cell_type": "code",
   "execution_count": 49,
   "id": "55dbbcbb",
   "metadata": {},
   "outputs": [],
   "source": [
    "chevy_trace_data, chevy_trace_label = get_trace_data(new_checy_data_dict, new_chevy_label_dict)"
   ]
  },
  {
   "cell_type": "markdown",
   "id": "d8a4e74d",
   "metadata": {},
   "source": [
    "#### 得到训练集和测试集"
   ]
  },
  {
   "cell_type": "code",
   "execution_count": 50,
   "id": "2c1ec6e9",
   "metadata": {},
   "outputs": [],
   "source": [
    "def get_data_label(id_tracedict_int, all_id_labels):\n",
    "    cur_trace_data, cur_trace_label = get_trace_data(id_tracedict_int, all_id_labels)\n",
    "    trace_indexs = pd.DataFrame(cur_trace_label).index.tolist()\n",
    "    random.shuffle(trace_indexs)\n",
    "    trace_data, trace_labels = np.array(cur_trace_data)[trace_indexs], np.array(cur_trace_label)[trace_indexs]\n",
    "    return trace_data, trace_labels"
   ]
  },
  {
   "cell_type": "code",
   "execution_count": 51,
   "id": "098cdb8b",
   "metadata": {},
   "outputs": [],
   "source": [
    "def shuffle_data_label(cur_trace_data, cur_trace_label):\n",
    "    trace_indexs = pd.DataFrame(cur_trace_label).index.tolist()\n",
    "    random.shuffle(trace_indexs)\n",
    "    trace_data, trace_labels = np.array(cur_trace_data)[trace_indexs], np.array(cur_trace_label)[trace_indexs]\n",
    "    return trace_data, trace_labels"
   ]
  },
  {
   "cell_type": "code",
   "execution_count": 52,
   "id": "4a14ca22",
   "metadata": {},
   "outputs": [],
   "source": [
    "train_data = np.concatenate([honda_trace_data,cadillac_trace_data])\n",
    "train_labels = np.concatenate([honda_trace_label,cadillac_trace_label])\n",
    "train_data, train_labels = shuffle_data_label(train_data, train_labels)"
   ]
  },
  {
   "cell_type": "code",
   "execution_count": 53,
   "id": "ab003f75",
   "metadata": {},
   "outputs": [],
   "source": [
    "test_data, test_labels = shuffle_data_label(chevy_trace_data, chevy_trace_label)"
   ]
  },
  {
   "cell_type": "code",
   "execution_count": 269,
   "id": "21801e75",
   "metadata": {},
   "outputs": [
    {
     "data": {
      "image/png": "[encoded data removed]",
      "text/plain": [
       "<Figure size 576x216 with 1 Axes>"
      ]
     },
     "metadata": {
      "needs_background": "light"
     },
     "output_type": "display_data"
    },
    {
     "data": {
      "image/png": "[encoded data removed]",
      "text/plain": [
       "<Figure size 576x216 with 1 Axes>"
      ]
     },
     "metadata": {
      "needs_background": "light"
     },
     "output_type": "display_data"
    },
    {
     "data": {
      "image/png": "[encoded data removed]",
      "text/plain": [
       "<Figure size 576x216 with 1 Axes>"
      ]
     },
     "metadata": {
      "needs_background": "light"
     },
     "output_type": "display_data"
    },
    {
     "data": {
      "image/png": "[encoded data removed]",
      "text/plain": [
       "<Figure size 576x216 with 1 Axes>"
      ]
     },
     "metadata": {
      "needs_background": "light"
     },
     "output_type": "display_data"
    },
    {
     "data": {
      "image/png": "[encoded data removed]",
      "text/plain": [
       "<Figure size 576x216 with 1 Axes>"
      ]
     },
     "metadata": {
      "needs_background": "light"
     },
     "output_type": "display_data"
    },
    {
     "data": {
      "image/png": "[encoded data removed]",
      "text/plain": [
       "<Figure size 576x216 with 1 Axes>"
      ]
     },
     "metadata": {
      "needs_background": "light"
     },
     "output_type": "display_data"
    }
   ],
   "source": [
    "plt_data_flip_dict(new_checy_data_dict, new_chevy_label_dict)"
   ]
  },
  {
   "cell_type": "code",
   "execution_count": 55,
   "id": "737446eb",
   "metadata": {},
   "outputs": [],
   "source": [
    "test_message_0 = {}\n",
    "test_message_label_0 = {}\n",
    "test_message_0['17d'] = new_checy_data_dict['17d']\n",
    "test_message_label_0['17d'] = new_chevy_label_dict['17d']\n",
    "testdata0,testlabel0 = get_trace_data(test_message_0, test_message_label_0)"
   ]
  },
  {
   "cell_type": "code",
   "execution_count": 56,
   "id": "38ada4cd",
   "metadata": {},
   "outputs": [],
   "source": [
    "test_message_1 = {}\n",
    "test_message_label_1 = {}\n",
    "test_message_1['1a1'] = new_checy_data_dict['1a1']\n",
    "test_message_label_1['1a1'] = new_chevy_label_dict['1a1']\n",
    "testdata1,testlabel1 = get_trace_data(test_message_1, test_message_label_1)"
   ]
  },
  {
   "cell_type": "code",
   "execution_count": 57,
   "id": "4ca28625",
   "metadata": {},
   "outputs": [],
   "source": [
    "test_message_2 = {}\n",
    "test_message_label_2 = {}\n",
    "test_message_2['32a'] = new_checy_data_dict['32a']\n",
    "test_message_label_2['32a'] = new_chevy_label_dict['32a']\n",
    "testdata2,testlabel2 = get_trace_data(test_message_2, test_message_label_2)"
   ]
  },
  {
   "cell_type": "code",
   "execution_count": 82,
   "id": "5633c6ba",
   "metadata": {},
   "outputs": [],
   "source": [
    "test_message_3 = {}\n",
    "test_message_label_3 = {}\n",
    "test_message_3['348'] = new_checy_data_dict['348']\n",
    "test_message_label_3['348'] = new_chevy_label_dict['348']\n",
    "testdata3,testlabel3 = get_trace_data(test_message_3, test_message_label_3)"
   ]
  },
  {
   "cell_type": "code",
   "execution_count": 59,
   "id": "5b246830",
   "metadata": {},
   "outputs": [],
   "source": [
    "test_message_4 = {}\n",
    "test_message_label_4 = {}\n",
    "test_message_4['be'] = new_checy_data_dict['be']\n",
    "test_message_label_4['be'] = new_chevy_label_dict['be']\n",
    "testdata4,testlabel4 = get_trace_data(test_message_4, test_message_label_4)"
   ]
  },
  {
   "cell_type": "code",
   "execution_count": 326,
   "id": "e4bf3880",
   "metadata": {},
   "outputs": [],
   "source": [
    "# '1a1', '32a', '348', 'be'\n",
    "# 417, 810, 840, 190"
   ]
  },
  {
   "cell_type": "code",
   "execution_count": 357,
   "id": "c7d86e78",
   "metadata": {},
   "outputs": [],
   "source": [
    "# np.array(mytest_data1).shape,np.array(mytest_labels1).shape"
   ]
  },
  {
   "cell_type": "code",
   "execution_count": 100,
   "id": "4fe50b29",
   "metadata": {},
   "outputs": [
    {
     "name": "stdout",
     "output_type": "stream",
     "text": [
      "WARNING:tensorflow:From D:\\--storage--\\program\\application\\windows-installer\\Miniconda3\\Miniconda3\\envs\\keras_py3.7\\lib\\site-packages\\tensorflow\\python\\framework\\op_def_library.py:263: colocate_with (from tensorflow.python.framework.ops) is deprecated and will be removed in a future version.\n",
      "Instructions for updating:\n",
      "Colocations handled automatically by placer.\n",
      "WARNING:tensorflow:From D:\\--storage--\\program\\application\\windows-installer\\Miniconda3\\Miniconda3\\envs\\keras_py3.7\\lib\\site-packages\\keras\\backend\\tensorflow_backend.py:3445: calling dropout (from tensorflow.python.ops.nn_ops) with keep_prob is deprecated and will be removed in a future version.\n",
      "Instructions for updating:\n",
      "Please use `rate` instead of `keep_prob`. Rate should be set to `rate = 1 - keep_prob`.\n",
      "WARNING:tensorflow:From D:\\--storage--\\program\\application\\windows-installer\\Miniconda3\\Miniconda3\\envs\\keras_py3.7\\lib\\site-packages\\tensorflow\\python\\ops\\math_ops.py:3066: to_int32 (from tensorflow.python.ops.math_ops) is deprecated and will be removed in a future version.\n",
      "Instructions for updating:\n",
      "Use tf.cast instead.\n"
     ]
    }
   ],
   "source": [
    "model = load_model('multihead model_((1+2)+input1)+(3+input2).h5')"
   ]
  },
  {
   "cell_type": "code",
   "execution_count": 137,
   "id": "daf3fd32",
   "metadata": {},
   "outputs": [],
   "source": [
    "def get_bit_flip(trace_data):\n",
    "    messagelist = trace_data\n",
    "    trace_len = len(messagelist)\n",
    "    bit_flip = np.zeros(64)\n",
    "    previous = messagelist[0]\n",
    "    for item in messagelist:\n",
    "        for ix in range(64):\n",
    "            if item[ix] != previous[ix]:\n",
    "                bit_flip[ix] = bit_flip[ix] + 1\n",
    "        previous = item\n",
    "    for ix in range(64):\n",
    "        bit_flip[ix] = bit_flip[ix] / trace_len\n",
    "    return bit_flip"
   ]
  },
  {
   "cell_type": "code",
   "execution_count": 138,
   "id": "06ef9190",
   "metadata": {},
   "outputs": [],
   "source": [
    "# model = load_model('multihead model_((1+2)+input1)+(3+input2).h5')\n",
    "# multihead model_((1+2)+input1)+(3+input2).h5\n",
    "# best_model = load_model(model_name+'.h5')\n",
    "def test(testdata, testlabel):\n",
    "    matrix_test_data1, matrix_test_labels1 = trace2matrixTrace(testdata, testlabel)\n",
    "    test_data_4_11 = np.expand_dims(matrix_test_data1, 3)\n",
    "    test_data_4_21 = np.expand_dims(testdata, 3)\n",
    "    mytest_data1 = [test_data_4_11, test_data_4_21]\n",
    "    mytest_labels1 = np.array(testlabel)\n",
    "    print(\"测试集:\")\n",
    "    predict_target_test_msb_prob1 = model.predict(mytest_data1)\n",
    "    predict_target_test_msb_label1 = (predict_target_test_msb_prob1 > 0.5).astype(int)\n",
    "    predict_target_test_msb_1D1 = predict_target_test_msb_label1.flatten()\n",
    "    test_labels_1D1 = mytest_labels1.flatten()\n",
    "    print(\"预测正确数量,训练集样本量:\")\n",
    "    print(sum(predict_target_test_msb_1D1 == test_labels_1D1),len(test_labels_1D1))\n",
    "    print(\"测试集精确度等指标：\")\n",
    "    print(metrics.classification_report(test_labels_1D1,predict_target_test_msb_1D1))\n",
    "    print(\"混淆矩阵：\")\n",
    "    print(metrics.confusion_matrix(test_labels_1D1,predict_target_test_msb_1D1))\n",
    "    index = 0\n",
    "    plt.plot(predict_target_test_msb_label1[index],color='blue',label='pred')\n",
    "    plt.bar(np.arange(64),mytest_labels1[index],color='black',label='label')\n",
    "    plt.bar(np.arange(64),get_bit_flip(test_data_4_21[0]),color='red',label='bitFlip')\n",
    "    plt.legend()\n",
    "    print(predict_target_test_msb_label1)\n",
    "    print(get_bit_flip(test_data_4_21[0]).tolist())\n",
    "    return predict_target_test_msb_label1,mytest_labels1,get_bit_flip(test_data_4_21[0])"
   ]
  },
  {
   "cell_type": "code",
   "execution_count": 97,
   "id": "5ddf5bd2",
   "metadata": {},
   "outputs": [
    {
     "data": {
      "text/plain": [
       "list"
      ]
     },
     "execution_count": 97,
     "metadata": {},
     "output_type": "execute_result"
    }
   ],
   "source": [
    "type(testdata1)"
   ]
  },
  {
   "cell_type": "code",
   "execution_count": 100,
   "id": "0f77ad3d",
   "metadata": {},
   "outputs": [
    {
     "name": "stdout",
     "output_type": "stream",
     "text": [
      "测试集:\n",
      "预测正确数量,训练集样本量:\n",
      "1344 1344\n",
      "测试集精确度等指标：\n",
      "              precision    recall  f1-score   support\n",
      "\n",
      "         0.0       1.00      1.00      1.00      1323\n",
      "         1.0       1.00      1.00      1.00        21\n",
      "\n",
      "    accuracy                           1.00      1344\n",
      "   macro avg       1.00      1.00      1.00      1344\n",
      "weighted avg       1.00      1.00      1.00      1344\n",
      "\n",
      "混淆矩阵：\n",
      "[[1323    0]\n",
      " [   0   21]]\n",
      "<class 'numpy.ndarray'>\n",
      "<class 'numpy.ndarray'>\n"
     ]
    },
    {
     "data": {
      "image/png": "[encoded data removed]",
      "text/plain": [
       "<Figure size 432x288 with 1 Axes>"
      ]
     },
     "metadata": {
      "needs_background": "light"
     },
     "output_type": "display_data"
    }
   ],
   "source": [
    "pred1,label1 = test(testdata1, testlabel1)"
   ]
  },
  {
   "cell_type": "code",
   "execution_count": 88,
   "id": "c91f3cdb",
   "metadata": {},
   "outputs": [
    {
     "name": "stdout",
     "output_type": "stream",
     "text": [
      "测试集:\n",
      "预测正确数量,训练集样本量:\n",
      "119 128\n",
      "测试集精确度等指标：\n",
      "              precision    recall  f1-score   support\n",
      "\n",
      "         0.0       0.99      0.94      0.96       124\n",
      "         1.0       0.27      0.75      0.40         4\n",
      "\n",
      "    accuracy                           0.93       128\n",
      "   macro avg       0.63      0.84      0.68       128\n",
      "weighted avg       0.97      0.93      0.95       128\n",
      "\n",
      "混淆矩阵：\n",
      "[[116   8]\n",
      " [  1   3]]\n"
     ]
    },
    {
     "data": {
      "image/png": "[encoded data removed]",
      "text/plain": [
       "<Figure size 432x288 with 1 Axes>"
      ]
     },
     "metadata": {
      "needs_background": "light"
     },
     "output_type": "display_data"
    }
   ],
   "source": [
    "pred2,label2 = test(testdata2, testlabel2)"
   ]
  },
  {
   "cell_type": "code",
   "execution_count": 83,
   "id": "f3ab859e",
   "metadata": {},
   "outputs": [
    {
     "name": "stdout",
     "output_type": "stream",
     "text": [
      "测试集:\n",
      "预测正确数量,训练集样本量:\n",
      "512 512\n",
      "测试集精确度等指标：\n",
      "              precision    recall  f1-score   support\n",
      "\n",
      "         0.0       1.00      1.00      1.00       496\n",
      "         1.0       1.00      1.00      1.00        16\n",
      "\n",
      "    accuracy                           1.00       512\n",
      "   macro avg       1.00      1.00      1.00       512\n",
      "weighted avg       1.00      1.00      1.00       512\n",
      "\n",
      "混淆矩阵：\n",
      "[[496   0]\n",
      " [  0  16]]\n",
      "[[0 0 0 0 0 0 0 0 0 0 0 0 0 0 0 1 0 0 0 0 0 0 0 0 0 0 0 0 0 0 0 1 0 0 0 0\n",
      "  0 0 0 0 0 0 0 0 0 0 0 0 0 0 0 0 0 0 0 0 0 0 0 0 0 0 0 0]\n",
      " [0 0 0 0 0 0 0 0 0 0 0 0 0 0 0 1 0 0 0 0 0 0 0 0 0 0 0 0 0 0 0 1 0 0 0 0\n",
      "  0 0 0 0 0 0 0 0 0 0 0 0 0 0 0 0 0 0 0 0 0 0 0 0 0 0 0 0]\n",
      " [0 0 0 0 0 0 0 0 0 0 0 0 0 0 0 1 0 0 0 0 0 0 0 0 0 0 0 0 0 0 0 1 0 0 0 0\n",
      "  0 0 0 0 0 0 0 0 0 0 0 0 0 0 0 0 0 0 0 0 0 0 0 0 0 0 0 0]\n",
      " [0 0 0 0 0 0 0 0 0 0 0 0 0 0 0 1 0 0 0 0 0 0 0 0 0 0 0 0 0 0 0 1 0 0 0 0\n",
      "  0 0 0 0 0 0 0 0 0 0 0 0 0 0 0 0 0 0 0 0 0 0 0 0 0 0 0 0]\n",
      " [0 0 0 0 0 0 0 0 0 0 0 0 0 0 0 1 0 0 0 0 0 0 0 0 0 0 0 0 0 0 0 1 0 0 0 0\n",
      "  0 0 0 0 0 0 0 0 0 0 0 0 0 0 0 0 0 0 0 0 0 0 0 0 0 0 0 0]\n",
      " [0 0 0 0 0 0 0 0 0 0 0 0 0 0 0 1 0 0 0 0 0 0 0 0 0 0 0 0 0 0 0 1 0 0 0 0\n",
      "  0 0 0 0 0 0 0 0 0 0 0 0 0 0 0 0 0 0 0 0 0 0 0 0 0 0 0 0]\n",
      " [0 0 0 0 0 0 0 0 0 0 0 0 0 0 0 1 0 0 0 0 0 0 0 0 0 0 0 0 0 0 0 1 0 0 0 0\n",
      "  0 0 0 0 0 0 0 0 0 0 0 0 0 0 0 0 0 0 0 0 0 0 0 0 0 0 0 0]\n",
      " [0 0 0 0 0 0 0 0 0 0 0 0 0 0 0 1 0 0 0 0 0 0 0 0 0 0 0 0 0 0 0 1 0 0 0 0\n",
      "  0 0 0 0 0 0 0 0 0 0 0 0 0 0 0 0 0 0 0 0 0 0 0 0 0 0 0 0]]\n",
      "[0.0, 0.0, 0.0, 0.0, 0.0, 0.002, 0.009, 0.015, 0.029, 0.063, 0.145, 0.264, 0.341, 0.341, 0.347, 0.357, 0.0, 0.0, 0.0, 0.0, 0.0, 0.002, 0.019, 0.025, 0.039, 0.073, 0.155, 0.277, 0.318, 0.354, 0.371, 0.345, 0.0, 0.0, 0.0, 0.0, 0.0, 0.0, 0.0, 0.0, 0.0, 0.0, 0.0, 0.0, 0.0, 0.0, 0.0, 0.0, 0.0, 0.0, 0.0, 0.0, 0.0, 0.0, 0.0, 0.0, 0.0, 0.0, 0.0, 0.0, 0.0, 0.0, 0.0, 0.0]\n"
     ]
    },
    {
     "data": {
      "image/png": "[encoded data removed]",
      "text/plain": [
       "<Figure size 432x288 with 1 Axes>"
      ]
     },
     "metadata": {
      "needs_background": "light"
     },
     "output_type": "display_data"
    }
   ],
   "source": [
    "pred1,label3, bitflip = test(testdata3, testlabel3)"
   ]
  },
  {
   "cell_type": "code",
   "execution_count": 72,
   "id": "3df69cd1",
   "metadata": {},
   "outputs": [
    {
     "data": {
      "text/plain": [
       "array([0, 0, 0, 0, 0, 0, 0, 0, 0, 0, 0, 0, 0, 0, 0, 1, 0, 0, 0, 0, 0, 0,\n",
       "       0, 0, 0, 0, 0, 0, 0, 0, 0, 1, 0, 0, 0, 0, 0, 0, 0, 0, 0, 0, 0, 0,\n",
       "       0, 0, 0, 0, 0, 0, 0, 0, 0, 0, 0, 0, 0, 0, 0, 0, 0, 0, 0, 0])"
      ]
     },
     "execution_count": 72,
     "metadata": {},
     "output_type": "execute_result"
    }
   ],
   "source": [
    "pred1[0]"
   ]
  },
  {
   "cell_type": "code",
   "execution_count": 79,
   "id": "da0e2059",
   "metadata": {},
   "outputs": [
    {
     "data": {
      "text/plain": [
       "array([0.   , 0.   , 0.   , 0.   , 0.   , 0.002, 0.009, 0.015, 0.029,\n",
       "       0.063, 0.145, 0.264, 0.341, 0.341, 0.347, 0.357, 0.   , 0.   ,\n",
       "       0.   , 0.   , 0.   , 0.002, 0.019, 0.025, 0.039, 0.073, 0.155,\n",
       "       0.277, 0.318, 0.354, 0.371, 0.345, 0.   , 0.   , 0.   , 0.   ,\n",
       "       0.   , 0.   , 0.   , 0.   , 0.   , 0.   , 0.   , 0.   , 0.   ,\n",
       "       0.   , 0.   , 0.   , 0.   , 0.   , 0.   , 0.   , 0.   , 0.   ,\n",
       "       0.   , 0.   , 0.   , 0.   , 0.   , 0.   , 0.   , 0.   , 0.   ,\n",
       "       0.   ])"
      ]
     },
     "execution_count": 79,
     "metadata": {},
     "output_type": "execute_result"
    }
   ],
   "source": [
    "bitflip"
   ]
  },
  {
   "cell_type": "code",
   "execution_count": 81,
   "id": "655db775",
   "metadata": {},
   "outputs": [
    {
     "data": {
      "text/plain": [
       "[[7, 0, 0],\n",
       " [7, 1, 0],\n",
       " [7, 2, 0],\n",
       " [7, 3, 0],\n",
       " [7, 4, 0],\n",
       " [7, 5, 0],\n",
       " [7, 6, 0],\n",
       " [7, 7, 0],\n",
       " [6, 0, 0],\n",
       " [6, 1, 0],\n",
       " [6, 2, 0],\n",
       " [6, 3, 0],\n",
       " [6, 4, 0],\n",
       " [6, 5, 0],\n",
       " [6, 6, 0],\n",
       " [6, 7, 0],\n",
       " [5, 0, 0],\n",
       " [5, 1, 0],\n",
       " [5, 2, 0],\n",
       " [5, 3, 0],\n",
       " [5, 4, 0],\n",
       " [5, 5, 0],\n",
       " [5, 6, 0],\n",
       " [5, 7, 0],\n",
       " [4, 0, 0],\n",
       " [4, 1, 0],\n",
       " [4, 2, 0],\n",
       " [4, 3, 0],\n",
       " [4, 4, 0],\n",
       " [4, 5, 0],\n",
       " [4, 6, 0],\n",
       " [4, 7, 0],\n",
       " [3, 0, 0],\n",
       " [3, 1, 0],\n",
       " [3, 2, 0],\n",
       " [3, 3, 0],\n",
       " [3, 4, 0],\n",
       " [3, 5, 0],\n",
       " [3, 6, 0],\n",
       " [3, 7, 0],\n",
       " [2, 0, 0],\n",
       " [2, 1, 0],\n",
       " [2, 2, 0],\n",
       " [2, 3, 0],\n",
       " [2, 4, 0],\n",
       " [2, 5, 0],\n",
       " [2, 6, 0],\n",
       " [2, 7, 0],\n",
       " [1, 0, 0],\n",
       " [1, 1, 0],\n",
       " [1, 2, 0],\n",
       " [1, 3, 0],\n",
       " [1, 4, 0],\n",
       " [1, 5, 0],\n",
       " [1, 6, 0],\n",
       " [1, 7, 0],\n",
       " [0, 0, 0],\n",
       " [0, 1, 0],\n",
       " [0, 2, 0],\n",
       " [0, 3, 0],\n",
       " [0, 4, 0],\n",
       " [0, 5, 0],\n",
       " [0, 6, 0],\n",
       " [0, 7, 0]]"
      ]
     },
     "execution_count": 81,
     "metadata": {},
     "output_type": "execute_result"
    }
   ],
   "source": [
    "bitflip_matrix = []\n",
    "for i in range(8):\n",
    "    for j in range(8):\n",
    "        bitflip_matrix.append([7-i,j,bitflip[i*8+j]])\n",
    "bitflip_matrix"
   ]
  },
  {
   "cell_type": "code",
   "execution_count": 90,
   "id": "3b4bdbf0",
   "metadata": {},
   "outputs": [
    {
     "name": "stdout",
     "output_type": "stream",
     "text": [
      "测试集:\n",
      "预测正确数量,训练集样本量:\n",
      "2845 2944\n",
      "测试集精确度等指标：\n",
      "              precision    recall  f1-score   support\n",
      "\n",
      "         0.0       0.98      0.98      0.98      2852\n",
      "         1.0       0.46      0.50      0.48        92\n",
      "\n",
      "    accuracy                           0.97      2944\n",
      "   macro avg       0.72      0.74      0.73      2944\n",
      "weighted avg       0.97      0.97      0.97      2944\n",
      "\n",
      "混淆矩阵：\n",
      "[[2799   53]\n",
      " [  46   46]]\n"
     ]
    },
    {
     "data": {
      "image/png": "[encoded data removed]",
      "text/plain": [
       "<Figure size 432x288 with 1 Axes>"
      ]
     },
     "metadata": {
      "needs_background": "light"
     },
     "output_type": "display_data"
    }
   ],
   "source": [
    "pred1,label4 = test(testdata4, testlabel4)"
   ]
  },
  {
   "cell_type": "markdown",
   "id": "759e03d2",
   "metadata": {},
   "source": [
    "## DL Model"
   ]
  },
  {
   "cell_type": "code",
   "execution_count": 54,
   "id": "131798c7",
   "metadata": {},
   "outputs": [],
   "source": [
    "def vetor2matrix(cur_message):\n",
    "    cur_matrix = [[0] * 8 for _ in range(8)]\n",
    "    index = 0\n",
    "    for row in range(8):\n",
    "        for col in range(8):\n",
    "            cur_matrix[row][col] = cur_message[index] \n",
    "            index = index + 1\n",
    "    return cur_matrix\n",
    "\n",
    "def trace2matrixTrace(trace_data, trace_label):\n",
    "    matrix_data = []\n",
    "    matrix_label = []\n",
    "    for i in range(len(trace_data)):\n",
    "        cur_trace_data = trace_data[i]\n",
    "        cur_matrix_data = []\n",
    "        for message in cur_trace_data:\n",
    "            cur_matrix = vetor2matrix(message)\n",
    "            cur_matrix_data.append(cur_matrix)\n",
    "        matrix_data.append(np.concatenate(cur_matrix_data))\n",
    "        matrix_label.append(vetor2matrix(trace_label[i]))\n",
    "    return np.array(matrix_data), np.array(matrix_label)"
   ]
  },
  {
   "cell_type": "code",
   "execution_count": 55,
   "id": "85a337c4",
   "metadata": {},
   "outputs": [],
   "source": [
    "matrix_train_data, matrix_train_labels = trace2matrixTrace(train_data, train_labels)"
   ]
  },
  {
   "cell_type": "code",
   "execution_count": 56,
   "id": "7b5aa498",
   "metadata": {},
   "outputs": [],
   "source": [
    "matrix_test_data, matrix_test_labels = trace2matrixTrace(test_data, test_labels)"
   ]
  },
  {
   "cell_type": "code",
   "execution_count": 57,
   "id": "e2075a9d",
   "metadata": {},
   "outputs": [
    {
     "name": "stderr",
     "output_type": "stream",
     "text": [
      "Using TensorFlow backend.\n",
      "D:\\--storage--\\program\\application\\windows-installer\\Miniconda3\\Miniconda3\\envs\\keras_py3.7\\lib\\site-packages\\tensorflow\\python\\framework\\dtypes.py:526: FutureWarning: Passing (type, 1) or '1type' as a synonym of type is deprecated; in a future version of numpy, it will be understood as (type, (1,)) / '(1,)type'.\n",
      "  _np_qint8 = np.dtype([(\"qint8\", np.int8, 1)])\n",
      "D:\\--storage--\\program\\application\\windows-installer\\Miniconda3\\Miniconda3\\envs\\keras_py3.7\\lib\\site-packages\\tensorflow\\python\\framework\\dtypes.py:527: FutureWarning: Passing (type, 1) or '1type' as a synonym of type is deprecated; in a future version of numpy, it will be understood as (type, (1,)) / '(1,)type'.\n",
      "  _np_quint8 = np.dtype([(\"quint8\", np.uint8, 1)])\n",
      "D:\\--storage--\\program\\application\\windows-installer\\Miniconda3\\Miniconda3\\envs\\keras_py3.7\\lib\\site-packages\\tensorflow\\python\\framework\\dtypes.py:528: FutureWarning: Passing (type, 1) or '1type' as a synonym of type is deprecated; in a future version of numpy, it will be understood as (type, (1,)) / '(1,)type'.\n",
      "  _np_qint16 = np.dtype([(\"qint16\", np.int16, 1)])\n",
      "D:\\--storage--\\program\\application\\windows-installer\\Miniconda3\\Miniconda3\\envs\\keras_py3.7\\lib\\site-packages\\tensorflow\\python\\framework\\dtypes.py:529: FutureWarning: Passing (type, 1) or '1type' as a synonym of type is deprecated; in a future version of numpy, it will be understood as (type, (1,)) / '(1,)type'.\n",
      "  _np_quint16 = np.dtype([(\"quint16\", np.uint16, 1)])\n",
      "D:\\--storage--\\program\\application\\windows-installer\\Miniconda3\\Miniconda3\\envs\\keras_py3.7\\lib\\site-packages\\tensorflow\\python\\framework\\dtypes.py:530: FutureWarning: Passing (type, 1) or '1type' as a synonym of type is deprecated; in a future version of numpy, it will be understood as (type, (1,)) / '(1,)type'.\n",
      "  _np_qint32 = np.dtype([(\"qint32\", np.int32, 1)])\n",
      "D:\\--storage--\\program\\application\\windows-installer\\Miniconda3\\Miniconda3\\envs\\keras_py3.7\\lib\\site-packages\\tensorflow\\python\\framework\\dtypes.py:535: FutureWarning: Passing (type, 1) or '1type' as a synonym of type is deprecated; in a future version of numpy, it will be understood as (type, (1,)) / '(1,)type'.\n",
      "  np_resource = np.dtype([(\"resource\", np.ubyte, 1)])\n"
     ]
    }
   ],
   "source": [
    "import keras\n",
    "from keras import layers\n",
    "from keras.models import Model, Sequential\n",
    "from keras.layers import Dense, Activation, Dropout, LSTM, Input, Permute, BatchNormalization, Flatten, MaxPooling1D, Conv1D,Conv2D, MaxPooling2D\n",
    "from keras.layers import concatenate, add, Reshape\n",
    "from keras.losses import mean_absolute_percentage_error, mean_absolute_error\n",
    "from sklearn.metrics import mean_squared_error\n",
    "import keras.backend as K\n",
    "from sklearn import metrics\n",
    "from keras.callbacks import Callback\n",
    "from keras.models import load_model\n",
    "from keras.optimizers import Adam"
   ]
  },
  {
   "cell_type": "code",
   "execution_count": 58,
   "id": "60cba220",
   "metadata": {},
   "outputs": [],
   "source": [
    "from keras.utils import plot_model"
   ]
  },
  {
   "cell_type": "code",
   "execution_count": 59,
   "id": "45f1e5fe",
   "metadata": {},
   "outputs": [],
   "source": [
    "from keras.callbacks import EarlyStopping"
   ]
  },
  {
   "cell_type": "code",
   "execution_count": 60,
   "id": "b0d53168",
   "metadata": {},
   "outputs": [],
   "source": [
    "# model.save('model.h5')\n",
    "# model = load_model('model.h5')"
   ]
  },
  {
   "cell_type": "code",
   "execution_count": 60,
   "id": "68853e46",
   "metadata": {},
   "outputs": [],
   "source": [
    "train_data_4_1 = np.expand_dims(matrix_train_data, 3)\n",
    "test_data_4_1 = np.expand_dims(matrix_test_data, 3)\n",
    "train_data_4_2 = np.expand_dims(train_data, 3)\n",
    "test_data_4_2 = np.expand_dims(test_data, 3)"
   ]
  },
  {
   "cell_type": "code",
   "execution_count": 61,
   "id": "a7e33430",
   "metadata": {},
   "outputs": [],
   "source": [
    "mytrain_data = [train_data_4_1, train_data_4_2]\n",
    "mytrain_labels = np.array(train_labels)\n",
    "\n",
    "mytest_data = [test_data_4_1, test_data_4_2]\n",
    "mytest_labels = np.array(test_labels)"
   ]
  },
  {
   "cell_type": "code",
   "execution_count": 168,
   "id": "a8896f8b",
   "metadata": {},
   "outputs": [],
   "source": [
    "# inputs1 = Input(shape = (8000,8,1))\n",
    "# inputs2 = Input(shape = (1000,64,1))\n",
    "\n",
    "# x1 = Conv2D(15, (3,3), padding='same', data_format='channels_last')(inputs1)\n",
    "# # x1 = Conv2D(15, (3,3), padding='same', data_format='channels_last')(x1)\n",
    "# x1 = Dropout(0.1)(x1)\n",
    "\n",
    "# x2 = Conv2D(15, (8,8), padding='same', data_format='channels_last')(inputs1)\n",
    "# # x2 = Conv2D(15, (8,8), padding='same', data_format='channels_last')(x2)\n",
    "# x2 = Dropout(0.1)(x2)\n",
    "\n",
    "# x12 = concatenate([x1,x2])\n",
    "# x12 = add([x12,inputs1])\n",
    "# x12 = Reshape((1000,8,8,30))(x12)\n",
    "# x12 = layers.Lambda(lambda a: K.mean(a, axis=1, keepdims=True))(x12)\n",
    "# x12 = Reshape((8,8,30))(x12)\n",
    "\n",
    "# x3 = Conv2D(15, (3,3), padding='same', data_format='channels_last')(inputs2)\n",
    "# # x3 = Conv2D(15, (3,3), padding='same', data_format='channels_last')(x3)\n",
    "# x3 = Dropout(0.1)(x3)\n",
    "# x3 = add([x3,inputs2])\n",
    "# x3 = layers.Lambda(lambda a: K.mean(a, axis=1, keepdims=True))(x3)\n",
    "# x3 = Reshape((8,8,15))(x3)\n",
    "\n",
    "# x = concatenate([x12,x3])\n",
    "# x = Flatten()(x)\n",
    "# x = Dropout(0.1)(x)\n",
    "# x = BatchNormalization()(x)\n",
    "# x = Dense(64, activation='relu')(x)\n",
    "# x = Dropout(0.1)(x)\n",
    "# outputs = Dense(64, activation='sigmoid')(x)\n",
    "# model = Model(inputs=[inputs1, inputs2], outputs=outputs)\n",
    "# keras.optimizers.Adam(lr=1e-3)\n",
    "# model.compile(loss='binary_crossentropy',optimizer='adam',metrics=['acc'])\n",
    "# model.summary()\n",
    "# # plot_model(model,to_file=\"multihead model_((1_2+2_2)+input1)+(3_2+input2).png\",show_shapes=True)"
   ]
  },
  {
   "cell_type": "code",
   "execution_count": 186,
   "id": "9d448198",
   "metadata": {},
   "outputs": [
    {
     "name": "stdout",
     "output_type": "stream",
     "text": [
      "__________________________________________________________________________________________________\n",
      "Layer (type)                    Output Shape         Param #     Connected to                     \n",
      "==================================================================================================\n",
      "input_5 (InputLayer)            (None, 8000, 8, 1)   0                                            \n",
      "__________________________________________________________________________________________________\n",
      "conv2d_7 (Conv2D)               (None, 8000, 8, 15)  150         input_5[0][0]                    \n",
      "__________________________________________________________________________________________________\n",
      "conv2d_9 (Conv2D)               (None, 8000, 8, 15)  975         input_5[0][0]                    \n",
      "__________________________________________________________________________________________________\n",
      "input_6 (InputLayer)            (None, 1000, 64, 1)  0                                            \n",
      "__________________________________________________________________________________________________\n",
      "conv2d_8 (Conv2D)               (None, 8000, 8, 15)  2040        conv2d_7[0][0]                   \n",
      "__________________________________________________________________________________________________\n",
      "conv2d_10 (Conv2D)              (None, 8000, 8, 15)  14415       conv2d_9[0][0]                   \n",
      "__________________________________________________________________________________________________\n",
      "conv2d_11 (Conv2D)              (None, 1000, 64, 15) 150         input_6[0][0]                    \n",
      "__________________________________________________________________________________________________\n",
      "dropout_11 (Dropout)            (None, 8000, 8, 15)  0           conv2d_8[0][0]                   \n",
      "__________________________________________________________________________________________________\n",
      "dropout_12 (Dropout)            (None, 8000, 8, 15)  0           conv2d_10[0][0]                  \n",
      "__________________________________________________________________________________________________\n",
      "conv2d_12 (Conv2D)              (None, 1000, 64, 15) 2040        conv2d_11[0][0]                  \n",
      "__________________________________________________________________________________________________\n",
      "add_6 (Add)                     (None, 8000, 8, 15)  0           dropout_11[0][0]                 \n",
      "                                                                 input_5[0][0]                    \n",
      "__________________________________________________________________________________________________\n",
      "add_7 (Add)                     (None, 8000, 8, 15)  0           dropout_12[0][0]                 \n",
      "                                                                 input_5[0][0]                    \n",
      "__________________________________________________________________________________________________\n",
      "dropout_13 (Dropout)            (None, 1000, 64, 15) 0           conv2d_12[0][0]                  \n",
      "__________________________________________________________________________________________________\n",
      "reshape_9 (Reshape)             (None, 1000, 8, 8, 1 0           add_6[0][0]                      \n",
      "__________________________________________________________________________________________________\n",
      "reshape_11 (Reshape)            (None, 1000, 8, 8, 1 0           add_7[0][0]                      \n",
      "__________________________________________________________________________________________________\n",
      "add_8 (Add)                     (None, 1000, 64, 15) 0           dropout_13[0][0]                 \n",
      "                                                                 input_6[0][0]                    \n",
      "__________________________________________________________________________________________________\n",
      "lambda_6 (Lambda)               (None, 1, 8, 8, 15)  0           reshape_9[0][0]                  \n",
      "__________________________________________________________________________________________________\n",
      "lambda_7 (Lambda)               (None, 1, 8, 8, 15)  0           reshape_11[0][0]                 \n",
      "__________________________________________________________________________________________________\n",
      "lambda_8 (Lambda)               (None, 1, 64, 15)    0           add_8[0][0]                      \n",
      "__________________________________________________________________________________________________\n",
      "reshape_10 (Reshape)            (None, 8, 8, 15)     0           lambda_6[0][0]                   \n",
      "__________________________________________________________________________________________________\n",
      "reshape_12 (Reshape)            (None, 8, 8, 15)     0           lambda_7[0][0]                   \n",
      "__________________________________________________________________________________________________\n",
      "reshape_13 (Reshape)            (None, 8, 8, 15)     0           lambda_8[0][0]                   \n",
      "__________________________________________________________________________________________________\n",
      "concatenate_4 (Concatenate)     (None, 8, 8, 45)     0           reshape_10[0][0]                 \n",
      "                                                                 reshape_12[0][0]                 \n",
      "                                                                 reshape_13[0][0]                 \n",
      "__________________________________________________________________________________________________\n",
      "flatten_3 (Flatten)             (None, 2880)         0           concatenate_4[0][0]              \n",
      "__________________________________________________________________________________________________\n",
      "dropout_14 (Dropout)            (None, 2880)         0           flatten_3[0][0]                  \n",
      "__________________________________________________________________________________________________\n",
      "batch_normalization_3 (BatchNor (None, 2880)         11520       dropout_14[0][0]                 \n",
      "__________________________________________________________________________________________________\n",
      "dense_5 (Dense)                 (None, 64)           184384      batch_normalization_3[0][0]      \n",
      "__________________________________________________________________________________________________\n",
      "dropout_15 (Dropout)            (None, 64)           0           dense_5[0][0]                    \n",
      "__________________________________________________________________________________________________\n",
      "dense_6 (Dense)                 (None, 64)           4160        dropout_15[0][0]                 \n",
      "==================================================================================================\n",
      "Total params: 219,834\n",
      "Trainable params: 214,074\n",
      "Non-trainable params: 5,760\n",
      "__________________________________________________________________________________________________\n"
     ]
    }
   ],
   "source": [
    "inputs1 = Input(shape = (8000,8,1))\n",
    "inputs2 = Input(shape = (1000,64,1))\n",
    "\n",
    "x1 = Conv2D(15, (3,3), padding='same', data_format='channels_last')(inputs1)\n",
    "x1 = Conv2D(15, (3,3), padding='same', data_format='channels_last')(x1)\n",
    "x1 = Dropout(0.1)(x1)\n",
    "x1 = add([x1,inputs1])\n",
    "x1 = Reshape((1000,8,8,15))(x1)\n",
    "x1 = layers.Lambda(lambda a: K.mean(a, axis=1, keepdims=True))(x1)\n",
    "x1 = Reshape((8,8,15))(x1)\n",
    "\n",
    "x2 = Conv2D(15, (8,8), padding='same', data_format='channels_last')(inputs1)\n",
    "x2 = Conv2D(15, (8,8), padding='same', data_format='channels_last')(x2)\n",
    "x2 = Dropout(0.1)(x2)\n",
    "x2 = add([x2,inputs1])\n",
    "x2 = Reshape((1000,8,8,15))(x2)\n",
    "x2 = layers.Lambda(lambda a: K.mean(a, axis=1, keepdims=True))(x2)\n",
    "x2 = Reshape((8,8,15))(x2)\n",
    "\n",
    "x3 = Conv2D(15, (3,3), padding='same', data_format='channels_last')(inputs2)\n",
    "x3 = Conv2D(15, (3,3), padding='same', data_format='channels_last')(x3)\n",
    "x3 = Dropout(0.1)(x3)\n",
    "x3 = add([x3,inputs2])\n",
    "x3 = layers.Lambda(lambda a: K.mean(a, axis=1, keepdims=True))(x3)\n",
    "x3 = Reshape((8,8,15))(x3)\n",
    "\n",
    "x = concatenate([x1,x2,x3])\n",
    "x = Flatten()(x)\n",
    "x = Dropout(0.1)(x)\n",
    "x = BatchNormalization()(x)\n",
    "x = Dense(64, activation='relu')(x)\n",
    "x = Dropout(0.1)(x)\n",
    "outputs = Dense(64, activation='sigmoid')(x)\n",
    "model = Model(inputs=[inputs1, inputs2], outputs=outputs)\n",
    "keras.optimizers.Adam(lr=1e-3)\n",
    "model.compile(loss='binary_crossentropy',optimizer='adam',metrics=['acc'])\n",
    "model.summary()"
   ]
  },
  {
   "cell_type": "code",
   "execution_count": 187,
   "id": "421757fc",
   "metadata": {},
   "outputs": [],
   "source": [
    "# model_name = \"multihead model_((1_2+input1)+(2_2+input1)+(3_2+input2))\"\n",
    "# model_name = \"multihead model_((1+input1)+(2+input1)+(3+input2))\"\n",
    "model_name = \"multihead model_final\""
   ]
  },
  {
   "cell_type": "code",
   "execution_count": 188,
   "id": "fdf86e6c",
   "metadata": {},
   "outputs": [],
   "source": [
    "plot_model(model,to_file=(model_name+\".png\"),show_shapes=True)"
   ]
  },
  {
   "cell_type": "code",
   "execution_count": 66,
   "id": "8fd1d73e",
   "metadata": {},
   "outputs": [],
   "source": [
    "##### vector model: 3*3 Epoch=16, 0.9808, 0.65\n",
    "##### matrix model: 8*8 Epoch=13, 0.9745, 0.58\n",
    "##### matrix model: 3*3 Epoch=12, 0.9810, 0.66\n",
    "##### 0.65和0.66相差很小，一个可能原因是因为，目前使用的dbc文件中全都是大端信号，无小端信号数量，所以两个模型效果相差不大。\n",
    "##### Honda cadilla和chevy车的DBC文件中会有少量的小端字节序信号，但是所筛选出的特征明显ID的信号都是大端字节序\n",
    "##### 但是试验表明，Matrix比vetor收敛更快"
   ]
  },
  {
   "cell_type": "code",
   "execution_count": 69,
   "id": "099b1a8e",
   "metadata": {},
   "outputs": [
    {
     "data": {
      "text/plain": [
       "(285, 8000, 8, 1)"
      ]
     },
     "execution_count": 69,
     "metadata": {},
     "output_type": "execute_result"
    }
   ],
   "source": [
    "##### multihead model: (1+2)+3  Epoch=9 0.9698 0.55\n",
    "##### multihead model: ((1+2)+input1)+(3+input2)  Epoch=8 0.9801 0.64"
   ]
  },
  {
   "cell_type": "code",
   "execution_count": 172,
   "id": "179b48eb",
   "metadata": {},
   "outputs": [],
   "source": [
    "# EarlyStop = EarlyStopping(monitor='val_accuracy', patience=0,verbose=1, mode='max')\n",
    "from keras.callbacks import ModelCheckpoint\n",
    "checkpoint = ModelCheckpoint((model_name+\".h5\"), \n",
    "#                             monitor='val_loss',\n",
    "                             monitor='val_acc',\n",
    "                            verbose=1, \n",
    "                            save_best_only=True, \n",
    "                            save_weights_only=False, \n",
    "#                             mode='min', \n",
    "                            mode='max', \n",
    "                            period=1)"
   ]
  },
  {
   "cell_type": "code",
   "execution_count": 173,
   "id": "674a1703",
   "metadata": {},
   "outputs": [
    {
     "name": "stdout",
     "output_type": "stream",
     "text": [
      "Train on 285 samples, validate on 87 samples\n",
      "Epoch 1/30\n",
      "285/285 [==============================] - 29s 102ms/step - loss: 0.6201 - acc: 0.6555 - val_loss: 0.5913 - val_acc: 0.7056\n",
      "\n",
      "Epoch 00001: val_acc improved from -inf to 0.70564, saving model to multihead model_final.h5\n",
      "Epoch 2/30\n",
      "285/285 [==============================] - 29s 102ms/step - loss: 0.3669 - acc: 0.8279 - val_loss: 0.3839 - val_acc: 0.8240\n",
      "\n",
      "Epoch 00002: val_acc improved from 0.70564 to 0.82399, saving model to multihead model_final.h5\n",
      "Epoch 3/30\n",
      "285/285 [==============================] - 31s 110ms/step - loss: 0.1816 - acc: 0.9302 - val_loss: 0.2266 - val_acc: 0.9156\n",
      "\n",
      "Epoch 00003: val_acc improved from 0.82399 to 0.91559, saving model to multihead model_final.h5\n",
      "Epoch 4/30\n",
      "285/285 [==============================] - 31s 108ms/step - loss: 0.0790 - acc: 0.9747 - val_loss: 0.1327 - val_acc: 0.9553\n",
      "\n",
      "Epoch 00004: val_acc improved from 0.91559 to 0.95528, saving model to multihead model_final.h5\n",
      "Epoch 5/30\n",
      "285/285 [==============================] - 30s 106ms/step - loss: 0.0457 - acc: 0.9867 - val_loss: 0.1161 - val_acc: 0.9750\n",
      "\n",
      "Epoch 00005: val_acc improved from 0.95528 to 0.97504, saving model to multihead model_final.h5\n",
      "Epoch 6/30\n",
      "285/285 [==============================] - 31s 110ms/step - loss: 0.0263 - acc: 0.9924 - val_loss: 0.1098 - val_acc: 0.9752\n",
      "\n",
      "Epoch 00006: val_acc improved from 0.97504 to 0.97522, saving model to multihead model_final.h5\n",
      "Epoch 7/30\n",
      "285/285 [==============================] - 31s 109ms/step - loss: 0.0184 - acc: 0.9948 - val_loss: 0.0964 - val_acc: 0.9763\n",
      "\n",
      "Epoch 00007: val_acc improved from 0.97522 to 0.97629, saving model to multihead model_final.h5\n",
      "Epoch 8/30\n",
      "285/285 [==============================] - 29s 102ms/step - loss: 0.0141 - acc: 0.9957 - val_loss: 0.0952 - val_acc: 0.9797\n",
      "\n",
      "Epoch 00008: val_acc improved from 0.97629 to 0.97971, saving model to multihead model_final.h5\n",
      "Epoch 9/30\n",
      "285/285 [==============================] - 31s 110ms/step - loss: 0.0117 - acc: 0.9961 - val_loss: 0.1045 - val_acc: 0.9781\n",
      "\n",
      "Epoch 00009: val_acc did not improve from 0.97971\n",
      "Epoch 10/30\n",
      "285/285 [==============================] - 32s 113ms/step - loss: 0.0119 - acc: 0.9968 - val_loss: 0.1100 - val_acc: 0.9784\n",
      "\n",
      "Epoch 00010: val_acc did not improve from 0.97971\n",
      "Epoch 11/30\n",
      "285/285 [==============================] - 29s 103ms/step - loss: 0.0117 - acc: 0.9969 - val_loss: 0.0952 - val_acc: 0.9799\n",
      "\n",
      "Epoch 00011: val_acc improved from 0.97971 to 0.97989, saving model to multihead model_final.h5\n",
      "Epoch 12/30\n",
      "285/285 [==============================] - 29s 102ms/step - loss: 0.0097 - acc: 0.9973 - val_loss: 0.0923 - val_acc: 0.9801\n",
      "\n",
      "Epoch 00012: val_acc improved from 0.97989 to 0.98006, saving model to multihead model_final.h5\n",
      "Epoch 13/30\n",
      "285/285 [==============================] - 29s 101ms/step - loss: 0.0095 - acc: 0.9971 - val_loss: 0.0921 - val_acc: 0.9802\n",
      "\n",
      "Epoch 00013: val_acc improved from 0.98006 to 0.98024, saving model to multihead model_final.h5\n",
      "Epoch 14/30\n",
      "285/285 [==============================] - 30s 105ms/step - loss: 0.0064 - acc: 0.9985 - val_loss: 0.1093 - val_acc: 0.9802\n",
      "\n",
      "Epoch 00014: val_acc did not improve from 0.98024\n",
      "Epoch 15/30\n",
      "285/285 [==============================] - 33s 117ms/step - loss: 0.0062 - acc: 0.9986 - val_loss: 0.1160 - val_acc: 0.9776\n",
      "\n",
      "Epoch 00015: val_acc did not improve from 0.98024\n",
      "Epoch 16/30\n",
      "285/285 [==============================] - 33s 115ms/step - loss: 0.0052 - acc: 0.9987 - val_loss: 0.1096 - val_acc: 0.9813\n",
      "\n",
      "Epoch 00016: val_acc improved from 0.98024 to 0.98132, saving model to multihead model_final.h5\n",
      "Epoch 17/30\n",
      "285/285 [==============================] - 36s 127ms/step - loss: 0.0059 - acc: 0.9985 - val_loss: 0.1051 - val_acc: 0.9810\n",
      "\n",
      "Epoch 00017: val_acc did not improve from 0.98132\n",
      "Epoch 18/30\n",
      "285/285 [==============================] - 35s 123ms/step - loss: 0.0054 - acc: 0.9982 - val_loss: 0.1078 - val_acc: 0.9806\n",
      "\n",
      "Epoch 00018: val_acc did not improve from 0.98132\n",
      "Epoch 19/30\n",
      "285/285 [==============================] - 31s 109ms/step - loss: 0.0039 - acc: 0.9988 - val_loss: 0.1079 - val_acc: 0.9808\n",
      "\n",
      "Epoch 00019: val_acc did not improve from 0.98132\n",
      "Epoch 20/30\n",
      "285/285 [==============================] - 33s 115ms/step - loss: 0.0044 - acc: 0.9991 - val_loss: 0.1088 - val_acc: 0.9810\n",
      "\n",
      "Epoch 00020: val_acc did not improve from 0.98132\n",
      "Epoch 21/30\n",
      "285/285 [==============================] - 33s 114ms/step - loss: 0.0031 - acc: 0.9993 - val_loss: 0.1077 - val_acc: 0.9806\n",
      "\n",
      "Epoch 00021: val_acc did not improve from 0.98132\n",
      "Epoch 22/30\n",
      "285/285 [==============================] - 31s 108ms/step - loss: 0.0031 - acc: 0.9991 - val_loss: 0.1109 - val_acc: 0.9806\n",
      "\n",
      "Epoch 00022: val_acc did not improve from 0.98132\n",
      "Epoch 23/30\n",
      "285/285 [==============================] - 31s 110ms/step - loss: 0.0035 - acc: 0.9991 - val_loss: 0.1062 - val_acc: 0.9810\n",
      "\n",
      "Epoch 00023: val_acc did not improve from 0.98132\n",
      "Epoch 24/30\n",
      "285/285 [==============================] - 30s 104ms/step - loss: 0.0032 - acc: 0.9991 - val_loss: 0.1060 - val_acc: 0.9811\n",
      "\n",
      "Epoch 00024: val_acc did not improve from 0.98132\n",
      "Epoch 25/30\n",
      "285/285 [==============================] - 30s 105ms/step - loss: 0.0030 - acc: 0.9992 - val_loss: 0.1091 - val_acc: 0.9806\n",
      "\n",
      "Epoch 00025: val_acc did not improve from 0.98132\n",
      "Epoch 26/30\n",
      "285/285 [==============================] - 31s 108ms/step - loss: 0.0024 - acc: 0.9992 - val_loss: 0.1088 - val_acc: 0.9806\n",
      "\n",
      "Epoch 00026: val_acc did not improve from 0.98132\n",
      "Epoch 27/30\n",
      "285/285 [==============================] - 29s 102ms/step - loss: 0.0026 - acc: 0.9992 - val_loss: 0.1059 - val_acc: 0.9779\n",
      "\n",
      "Epoch 00027: val_acc did not improve from 0.98132\n",
      "Epoch 28/30\n",
      "285/285 [==============================] - 31s 108ms/step - loss: 0.0021 - acc: 0.9996 - val_loss: 0.1103 - val_acc: 0.9709\n",
      "\n",
      "Epoch 00028: val_acc did not improve from 0.98132\n",
      "Epoch 29/30\n",
      "285/285 [==============================] - 31s 107ms/step - loss: 0.0016 - acc: 0.9996 - val_loss: 0.1147 - val_acc: 0.9792\n",
      "\n",
      "Epoch 00029: val_acc did not improve from 0.98132\n",
      "Epoch 30/30\n",
      "285/285 [==============================] - 28s 98ms/step - loss: 0.0022 - acc: 0.9996 - val_loss: 0.1166 - val_acc: 0.9804\n",
      "\n",
      "Epoch 00030: val_acc did not improve from 0.98132\n"
     ]
    }
   ],
   "source": [
    "history = model.fit(mytrain_data, mytrain_labels,\n",
    "     epochs=30,\n",
    "     batch_size=32,\n",
    "     callbacks=[checkpoint],\n",
    "     validation_data=(mytest_data, mytest_labels)\n",
    "    )\n",
    "# model.save('multihead model_((1+2)+input1)+(3+input2).h5')"
   ]
  },
  {
   "cell_type": "code",
   "execution_count": null,
   "id": "85855349",
   "metadata": {},
   "outputs": [],
   "source": [
    "model.predict"
   ]
  },
  {
   "cell_type": "code",
   "execution_count": 50,
   "id": "6465b831",
   "metadata": {
    "scrolled": true
   },
   "outputs": [],
   "source": [
    "# acc = history.history['acc']\n",
    "# loss = history.history['loss']\n",
    "# epochs = range(1, len(acc) + 1)"
   ]
  },
  {
   "cell_type": "code",
   "execution_count": 51,
   "id": "634f8cae",
   "metadata": {},
   "outputs": [],
   "source": [
    "# plt.title('Accuracy')\n",
    "# plt.plot(epochs, acc, 'red', label='Training acc')\n",
    "# plt.plot(epochs, loss, 'blue', label='Training loss')\n",
    "# plt.legend()\n",
    "# plt.show()\n",
    "\n",
    "# 1CNN 8*8 0.58\n",
    "# 1CNN 3*3 12EPOCH 0.58\n"
   ]
  },
  {
   "cell_type": "code",
   "execution_count": 164,
   "id": "f0e6360f",
   "metadata": {},
   "outputs": [],
   "source": [
    "# model = load_model('multihead model_((1+2+input1)+(3+input2)_5.13).h5')\n",
    "# model = load_model('multihead model_((1+2)+input1)+(3+input2).h5')"
   ]
  },
  {
   "cell_type": "code",
   "execution_count": 174,
   "id": "92157f1a",
   "metadata": {},
   "outputs": [
    {
     "name": "stdout",
     "output_type": "stream",
     "text": [
      "测试集:\n",
      "预测正确数量,训练集样本量:\n",
      "5459 5568\n",
      "测试集精确度等指标：\n",
      "              precision    recall  f1-score   support\n",
      "\n",
      "         0.0       0.99      0.99      0.99      5417\n",
      "         1.0       0.63      0.69      0.66       151\n",
      "\n",
      "    accuracy                           0.98      5568\n",
      "   macro avg       0.81      0.84      0.82      5568\n",
      "weighted avg       0.98      0.98      0.98      5568\n",
      "\n",
      "混淆矩阵：\n",
      "[[5355   62]\n",
      " [  47  104]]\n"
     ]
    }
   ],
   "source": [
    "# multihead model_((1+2)+input1)+(3+input2).h5\n",
    "# best_model = load_model(model_name+'.h5')\n",
    "print(\"测试集:\")\n",
    "predict_target_test_msb_prob =model.predict(mytest_data)\n",
    "predict_target_test_msb_label = (predict_target_test_msb_prob > 0.5).astype(int)\n",
    "predict_target_test_msb_1D = predict_target_test_msb_label.flatten()\n",
    "test_labels_1D = mytest_labels.flatten()\n",
    "print(\"预测正确数量,训练集样本量:\")\n",
    "print(sum(predict_target_test_msb_1D == test_labels_1D),len(test_labels_1D))\n",
    "print(\"测试集精确度等指标：\")\n",
    "print(metrics.classification_report(test_labels_1D,predict_target_test_msb_1D))\n",
    "print(\"混淆矩阵：\")\n",
    "print(metrics.confusion_matrix(test_labels_1D,predict_target_test_msb_1D))"
   ]
  },
  {
   "cell_type": "code",
   "execution_count": 175,
   "id": "74921af8",
   "metadata": {},
   "outputs": [
    {
     "data": {
      "text/plain": [
       "(1000, 64)"
      ]
     },
     "execution_count": 175,
     "metadata": {},
     "output_type": "execute_result"
    }
   ],
   "source": [
    "test_data[0].shape"
   ]
  },
  {
   "cell_type": "code",
   "execution_count": 176,
   "id": "70ab559c",
   "metadata": {},
   "outputs": [],
   "source": [
    "pred = predict_target_test_msb_label\n",
    "for i in range(len(mytest_labels)):\n",
    "    for j in range(64):\n",
    "        if pred[i][j] == 1 and mytest_labels[i][j] == 1:\n",
    "            pred[i][j] = 2"
   ]
  },
  {
   "cell_type": "code",
   "execution_count": 177,
   "id": "0dfaae87",
   "metadata": {},
   "outputs": [
    {
     "data": {
      "text/plain": [
       "array([0, 0, 0, 0, 0, 0, 0, 0, 0, 0, 0, 0, 0, 0, 0, 0, 0, 0, 0, 0, 0, 0,\n",
       "       0, 0, 0, 0, 0, 0, 0, 0, 0, 0, 0, 0, 0, 0, 0, 0, 0, 0, 0, 0, 0, 0,\n",
       "       0, 0, 0, 0, 0, 0, 0, 0, 0, 0, 0, 2, 0, 0, 0, 0, 0, 0, 0, 0])"
      ]
     },
     "execution_count": 177,
     "metadata": {},
     "output_type": "execute_result"
    }
   ],
   "source": [
    "pred[0]"
   ]
  },
  {
   "cell_type": "code",
   "execution_count": 178,
   "id": "ba36e468",
   "metadata": {},
   "outputs": [
    {
     "data": {
      "text/plain": [
       "(87, 64)"
      ]
     },
     "execution_count": 178,
     "metadata": {},
     "output_type": "execute_result"
    }
   ],
   "source": [
    "np.array(true_preds).shape"
   ]
  },
  {
   "cell_type": "code",
   "execution_count": 179,
   "id": "5391f219",
   "metadata": {},
   "outputs": [
    {
     "data": {
      "text/plain": [
       "270"
      ]
     },
     "execution_count": 179,
     "metadata": {},
     "output_type": "execute_result"
    }
   ],
   "source": [
    "np.array(pred).sum()"
   ]
  },
  {
   "cell_type": "code",
   "execution_count": 67,
   "id": "ede1596e",
   "metadata": {},
   "outputs": [],
   "source": [
    "def get_bit_flip(trace_data):\n",
    "    messagelist = trace_data\n",
    "    trace_len = len(messagelist)\n",
    "    bit_flip = np.zeros(64)\n",
    "    previous = messagelist[0]\n",
    "    for item in messagelist:\n",
    "        for ix in range(64):\n",
    "            if item[ix] != previous[ix]:\n",
    "                bit_flip[ix] = bit_flip[ix] + 1\n",
    "        previous = item\n",
    "    for ix in range(64):\n",
    "        bit_flip[ix] = bit_flip[ix] / trace_len\n",
    "    return bit_flip\n",
    "def get_signal_position_count(test_data,pred,mytest_labels):\n",
    "    bitFlips = []\n",
    "    datafield = []\n",
    "    true_count = 0\n",
    "    for i in range(len(mytest_labels)):\n",
    "        for j in range(64):\n",
    "            if pred[i][j] == 1 and mytest_labels[i][j] == 1:\n",
    "                pred[i][j] = 2\n",
    "    for i in range(len(test_data)):\n",
    "        cur_bit_flip = get_bit_flip(test_data[i])\n",
    "        bitFlips.append(cur_bit_flip)\n",
    "        datafield.append(cur_bit_flip)\n",
    "    for i in range(len(datafield)):\n",
    "        for j in range(64):\n",
    "            if pred[i][j] == 1:\n",
    "                datafield[i][j] = 2\n",
    "            if pred[i][j] == 2:\n",
    "                datafield[i][j] = 3\n",
    "    for i in range(len(datafield)):\n",
    "        for j in range(64):\n",
    "            if datafield[i][j] == 3:\n",
    "                for k in range(j,-1,-1):\n",
    "                    if datafield[i][k] == 0:\n",
    "                        true_count = true_count + 1\n",
    "                        break\n",
    "                    if datafield[i][k] == 2:\n",
    "                        break                \n",
    "    return true_count"
   ]
  },
  {
   "cell_type": "code",
   "execution_count": 181,
   "id": "af7014df",
   "metadata": {},
   "outputs": [
    {
     "data": {
      "text/plain": [
       "102"
      ]
     },
     "execution_count": 181,
     "metadata": {},
     "output_type": "execute_result"
    }
   ],
   "source": [
    "true_count"
   ]
  },
  {
   "cell_type": "code",
   "execution_count": 157,
   "id": "8656f7c8",
   "metadata": {},
   "outputs": [
    {
     "data": {
      "text/plain": [
       "array([0.   , 0.   , 0.   , 0.   , 0.   , 0.   , 0.   , 0.   , 0.   ,\n",
       "       0.003, 0.003, 0.003, 0.003, 0.012, 0.03 , 3.   , 0.   , 0.   ,\n",
       "       0.   , 0.   , 0.   , 0.   , 0.   , 0.   , 0.   , 0.   , 0.   ,\n",
       "       0.   , 0.   , 0.   , 0.   , 2.   , 0.   , 0.   , 0.   , 0.   ,\n",
       "       0.   , 0.   , 0.   , 0.   , 0.   , 0.   , 0.   , 0.   , 0.   ,\n",
       "       0.   , 0.   , 2.   , 0.   , 0.   , 0.   , 0.   , 0.   , 0.   ,\n",
       "       0.   , 0.   , 0.   , 0.   , 0.   , 0.   , 0.   , 0.   , 0.   ,\n",
       "       0.   ])"
      ]
     },
     "execution_count": 157,
     "metadata": {},
     "output_type": "execute_result"
    }
   ],
   "source": [
    "datafield[1]"
   ]
  },
  {
   "cell_type": "code",
   "execution_count": 409,
   "id": "3236f093",
   "metadata": {},
   "outputs": [
    {
     "data": {
      "text/plain": [
       "array([0, 0, 0, ..., 0, 0, 0])"
      ]
     },
     "execution_count": 409,
     "metadata": {},
     "output_type": "execute_result"
    }
   ],
   "source": [
    "predict_target_test_msb_1D"
   ]
  },
  {
   "cell_type": "code",
   "execution_count": 410,
   "id": "22d9a47c",
   "metadata": {},
   "outputs": [
    {
     "data": {
      "text/plain": [
       "array([0., 0., 0., ..., 0., 0., 0.])"
      ]
     },
     "execution_count": 410,
     "metadata": {},
     "output_type": "execute_result"
    }
   ],
   "source": [
    "test_labels_1D"
   ]
  },
  {
   "cell_type": "code",
   "execution_count": 185,
   "id": "112823a2",
   "metadata": {},
   "outputs": [
    {
     "data": {
      "text/plain": [
       "166"
      ]
     },
     "execution_count": 185,
     "metadata": {},
     "output_type": "execute_result"
    }
   ],
   "source": [
    "predict_target_test_msb_1D.sum()"
   ]
  },
  {
   "cell_type": "code",
   "execution_count": 184,
   "id": "2a5e82b7",
   "metadata": {},
   "outputs": [
    {
     "data": {
      "text/plain": [
       "151.0"
      ]
     },
     "execution_count": 184,
     "metadata": {},
     "output_type": "execute_result"
    }
   ],
   "source": [
    "test_labels_1D.sum()"
   ]
  },
  {
   "cell_type": "code",
   "execution_count": 182,
   "id": "b0390dcd",
   "metadata": {},
   "outputs": [
    {
     "data": {
      "text/plain": [
       "104"
      ]
     },
     "execution_count": 182,
     "metadata": {},
     "output_type": "execute_result"
    }
   ],
   "source": [
    "count  = 0\n",
    "for i in range(len(predict_target_test_msb_1D)):\n",
    "    if predict_target_test_msb_1D[i] == 1 and test_labels_1D[i] == 1:\n",
    "        count  = count + 1\n",
    "count"
   ]
  },
  {
   "cell_type": "code",
   "execution_count": 61,
   "id": "e39c7180",
   "metadata": {},
   "outputs": [
    {
     "name": "stdout",
     "output_type": "stream",
     "text": [
      "测试集:\n",
      "预测正确数量,训练集样本量:\n",
      "5465 5568\n",
      "测试集精确度等指标：\n",
      "              precision    recall  f1-score   support\n",
      "\n",
      "         0.0       0.99      0.99      0.99      5417\n",
      "         1.0       0.65      0.68      0.66       151\n",
      "\n",
      "    accuracy                           0.98      5568\n",
      "   macro avg       0.82      0.83      0.83      5568\n",
      "weighted avg       0.98      0.98      0.98      5568\n",
      "\n",
      "混淆矩阵：\n",
      "[[5363   54]\n",
      " [  49  102]]\n"
     ]
    }
   ],
   "source": [
    "print(\"测试集:\")\n",
    "predict_target_test_msb_prob =best_model.predict(mytest_data)\n",
    "predict_target_test_msb_label = (predict_target_test_msb_prob > 0.5).astype(int)\n",
    "predict_target_test_msb_1D = predict_target_test_msb_label.flatten()\n",
    "test_labels_1D = mytest_labels.flatten()\n",
    "print(\"预测正确数量,训练集样本量:\")\n",
    "print(sum(predict_target_test_msb_1D == test_labels_1D),len(test_labels_1D))\n",
    "print(\"测试集精确度等指标：\")\n",
    "print(metrics.classification_report(test_labels_1D,predict_target_test_msb_1D))\n",
    "print(\"混淆矩阵：\")\n",
    "print(metrics.confusion_matrix(test_labels_1D,predict_target_test_msb_1D))"
   ]
  },
  {
   "cell_type": "code",
   "execution_count": 69,
   "id": "0112ba39",
   "metadata": {},
   "outputs": [
    {
     "name": "stdout",
     "output_type": "stream",
     "text": [
      "测试集:\n",
      "预测正确数量,训练集样本量:\n",
      "5359 5568\n",
      "测试集精确度等指标：\n",
      "              precision    recall  f1-score   support\n",
      "\n",
      "         0.0       0.99      0.97      0.98      5417\n",
      "         1.0       0.39      0.68      0.49       151\n",
      "\n",
      "    accuracy                           0.96      5568\n",
      "   macro avg       0.69      0.82      0.74      5568\n",
      "weighted avg       0.97      0.96      0.97      5568\n",
      "\n",
      "混淆矩阵：\n",
      "[[5257  160]\n",
      " [  49  102]]\n"
     ]
    }
   ],
   "source": [
    "print(\"测试集:\")\n",
    "predict_target_test_msb_prob = model.predict(mytest_data)\n",
    "predict_target_test_msb_label = (predict_target_test_msb_prob > 0.5).astype(int)\n",
    "predict_target_test_msb_1D = predict_target_test_msb_label.flatten()\n",
    "test_labels_1D = mytest_labels.flatten()\n",
    "print(\"预测正确数量,训练集样本量:\")\n",
    "print(sum(predict_target_test_msb_1D == test_labels_1D),len(test_labels_1D))\n",
    "print(\"测试集精确度等指标：\")\n",
    "print(metrics.classification_report(test_labels_1D,predict_target_test_msb_1D))\n",
    "print(\"混淆矩阵：\")\n",
    "print(metrics.confusion_matrix(test_labels_1D,predict_target_test_msb_1D))"
   ]
  },
  {
   "cell_type": "code",
   "execution_count": 63,
   "id": "5ab22c09",
   "metadata": {},
   "outputs": [
    {
     "name": "stdout",
     "output_type": "stream",
     "text": [
      "测试集:\n",
      "预测正确数量,训练集样本量:\n",
      "5353 5568\n",
      "测试集精确度等指标：\n",
      "              precision    recall  f1-score   support\n",
      "\n",
      "         0.0       0.99      0.97      0.98      5417\n",
      "         1.0       0.37      0.62      0.47       151\n",
      "\n",
      "    accuracy                           0.96      5568\n",
      "   macro avg       0.68      0.80      0.72      5568\n",
      "weighted avg       0.97      0.96      0.97      5568\n",
      "\n",
      "混淆矩阵：\n",
      "[[5259  158]\n",
      " [  57   94]]\n"
     ]
    }
   ],
   "source": [
    "# 使用READ方法计算bit-flip\n",
    "import math\n",
    "inf = -11\n",
    "def get_preparation(trace_data):\n",
    "    bit_Flips = []\n",
    "    Magnitudes = []\n",
    "    for i in range(len(trace_data)):\n",
    "        messagelist = trace_data[i]\n",
    "        trace_len = len(messagelist)\n",
    "        bit_flip = np.zeros(64)\n",
    "        magnitude = np.zeros(64)\n",
    "        previous = messagelist[0]\n",
    "        for item in messagelist:\n",
    "            for ix in range(64):\n",
    "                if item[ix] != previous[ix]:\n",
    "                    bit_flip[ix] = bit_flip[ix] + 1\n",
    "            previous = item\n",
    "        for ix in range(64):\n",
    "            bit_flip[ix] = bit_flip[ix] / trace_len\n",
    "            if bit_flip[ix] == 0:\n",
    "                cur_magnitude = inf\n",
    "            else:\n",
    "                cur_magnitude = math.log10(bit_flip[ix])\n",
    "            magnitude[ix] = math.ceil(cur_magnitude)\n",
    "        bit_Flips.append(bit_flip)\n",
    "        Magnitudes.append(magnitude)\n",
    "    return bit_Flips, Magnitudes\n",
    "def get_phase1(magnitude):\n",
    "    ref = []\n",
    "    prevMagnitude = magnitude[0]\n",
    "    ixS = 0\n",
    "    for ix in range(64):\n",
    "        if magnitude[ix] < prevMagnitude:\n",
    "            ref.append((ixS, ix-1))\n",
    "            ixS = ix\n",
    "        prevMagnitude = magnitude[ix]\n",
    "    ref.append((ixS, 63))\n",
    "    return ref\n",
    "def matchCounter(sublist):\n",
    "    if(sublist[-1] != 1):\n",
    "        return -1\n",
    "    ixS = len(sublist)-1\n",
    "    for i in range(len(sublist)-2,-1,-1):\n",
    "        if sublist[i] == (sublist[i+1] / 2):\n",
    "            ixS = i\n",
    "    return ixS\n",
    "def get_phase2(ref, bit_flip, magnitude):\n",
    "    rRef = []\n",
    "    for sign in ref:\n",
    "        (ixS, ixE) = sign\n",
    "        mgt = magnitude[ixS: ixE+1]\n",
    "        mu = np.mean(bit_flip[ixS: ixE+1])\n",
    "        std = np.std(bit_flip[ixS: ixE+1])\n",
    "        if magnitude[ixE] == 0:\n",
    "            Sctr = matchCounter(bit_flip[ixS: ixE+1])\n",
    "#             print(Sctr)\n",
    "            if Sctr >= 0:\n",
    "                rRef.append((ixS, Sctr, \"PHYSVAL\"))\n",
    "                rRef.append((Sctr, ixE, \"COUNTER\"))\n",
    "        else:\n",
    "            exit = False\n",
    "            for Scrc in range(ixS, ixE+1):\n",
    "                if not exit:\n",
    "#                     print(Scrc)\n",
    "                    if sum(magnitude[Scrc: (ixE+1)]) == 0 and mu >= (0.5-std) and mu <= (0.5+std):\n",
    "                        rRef.append((Scrc, ixE, \"CRC\"))\n",
    "                        rRef.append((ixS, Scrc, \"PHYSVAL\"))\n",
    "                        exit = True\n",
    "                else:\n",
    "                    break\n",
    "    return rRef\n",
    "def position2preds(preds_ref):\n",
    "    preds = []\n",
    "    for i in range(len(preds_ref)):\n",
    "        cur_ref = preds_ref[i]\n",
    "        cur_preds = np.zeros(64)\n",
    "        for signal in cur_ref:\n",
    "            cur_preds[signal[1]] = 1\n",
    "        preds.append(cur_preds)\n",
    "    return np.array(preds)\n",
    "def get_boundary_score(y_true, y_pred):\n",
    "    new_labels = []\n",
    "    new_preds = []\n",
    "    for i in range(len(y_true)):\n",
    "        if(y_true[i] == 1):\n",
    "            new_labels.append(y_true[i])\n",
    "            new_preds.append(y_pred[i])\n",
    "    return np.array(new_labels), np.array(new_preds)\n",
    "READ_test_data = np.array(test_data)\n",
    "READ_test_labels = np.array(test_labels)\n",
    "bit_flip_dict, magnitude_dict = get_preparation(READ_test_data)\n",
    "preds_ref = []\n",
    "preds_rRef = []\n",
    "for i in range(len(magnitude_dict)):\n",
    "    ref = get_phase1(magnitude_dict[i])\n",
    "    rRef = get_phase2(ref, bit_flip_dict[i], magnitude_dict[i])\n",
    "    preds_rRef.append(rRef)\n",
    "    preds_ref.append(ref)\n",
    "preds = position2preds(preds_ref)\n",
    "from sklearn import metrics\n",
    "print(\"测试集:\")\n",
    "preds_msb_1D = preds.flatten()\n",
    "test_labels_1D = READ_test_labels.flatten()\n",
    "print(\"预测正确数量,训练集样本量:\")\n",
    "print(sum(preds_msb_1D == test_labels_1D),len(test_labels_1D))\n",
    "print(\"测试集精确度等指标：\")\n",
    "print(metrics.classification_report(test_labels_1D,preds_msb_1D))\n",
    "print(\"混淆矩阵：\")\n",
    "print(metrics.confusion_matrix(test_labels_1D,preds_msb_1D))"
   ]
  },
  {
   "cell_type": "code",
   "execution_count": 65,
   "id": "3d2a828c",
   "metadata": {},
   "outputs": [
    {
     "data": {
      "text/plain": [
       "94"
      ]
     },
     "execution_count": 65,
     "metadata": {},
     "output_type": "execute_result"
    }
   ],
   "source": [
    "count  = 0\n",
    "for i in range(len(preds_msb_1D)):\n",
    "    if preds_msb_1D[i] == 1 and test_labels_1D[i] == 1:\n",
    "        count  = count + 1\n",
    "count"
   ]
  },
  {
   "cell_type": "code",
   "execution_count": 71,
   "id": "6b22e529",
   "metadata": {},
   "outputs": [
    {
     "data": {
      "text/plain": [
       "252.0"
      ]
     },
     "execution_count": 71,
     "metadata": {},
     "output_type": "execute_result"
    }
   ],
   "source": [
    "preds_msb_1D.sum()"
   ]
  },
  {
   "cell_type": "code",
   "execution_count": 69,
   "id": "72f5431e",
   "metadata": {},
   "outputs": [
    {
     "data": {
      "text/plain": [
       "88"
      ]
     },
     "execution_count": 69,
     "metadata": {},
     "output_type": "execute_result"
    }
   ],
   "source": [
    "get_signal_position_count(test_data,preds,READ_test_labels)"
   ]
  },
  {
   "cell_type": "code",
   "execution_count": 64,
   "id": "36824ad4",
   "metadata": {},
   "outputs": [],
   "source": [
    "def position2lsbpreds():\n",
    "    preds = []\n",
    "    for i in range(len(preds_ref)):\n",
    "        cur_ref = preds_ref[i]\n",
    "        cur_preds = np.zeros(64)\n",
    "        for signal in cur_ref:\n",
    "            cur_preds[signal[1]] = 1\n",
    "        preds.append(cur_preds)\n",
    "    return np.array(preds)"
   ]
  },
  {
   "cell_type": "code",
   "execution_count": 63,
   "id": "80c90ee8",
   "metadata": {},
   "outputs": [
    {
     "data": {
      "text/plain": [
       "[(0, 11), (12, 23), (24, 25), (26, 39), (40, 63)]"
      ]
     },
     "execution_count": 63,
     "metadata": {},
     "output_type": "execute_result"
    }
   ],
   "source": [
    "preds_ref[0]"
   ]
  },
  {
   "cell_type": "code",
   "execution_count": 64,
   "id": "1f94a0f3",
   "metadata": {},
   "outputs": [
    {
     "data": {
      "text/plain": [
       "array([0., 0., 0., 0., 0., 0., 0., 0., 0., 0., 0., 1., 0., 0., 0., 0., 0.,\n",
       "       0., 0., 0., 0., 0., 0., 1., 0., 1., 0., 0., 0., 0., 0., 0., 0., 0.,\n",
       "       0., 0., 0., 0., 0., 1., 0., 0., 0., 0., 0., 0., 0., 0., 0., 0., 0.,\n",
       "       0., 0., 0., 0., 0., 0., 0., 0., 0., 0., 0., 0., 1.])"
      ]
     },
     "execution_count": 64,
     "metadata": {},
     "output_type": "execute_result"
    }
   ],
   "source": [
    "preds[0]"
   ]
  },
  {
   "cell_type": "code",
   "execution_count": 70,
   "id": "41858034",
   "metadata": {},
   "outputs": [],
   "source": [
    "# model.save(model_name+'.h5')"
   ]
  },
  {
   "cell_type": "code",
   "execution_count": 76,
   "id": "9cb7fdb7",
   "metadata": {},
   "outputs": [],
   "source": [
    "def get_bit_Flips(cur_id_traces):\n",
    "    bit_Flips = []\n",
    "    for i in range(len(cur_id_traces)):\n",
    "        messagelist = cur_id_traces[i]\n",
    "        trace_len = len(messagelist)\n",
    "        bit_flip = np.zeros(64)\n",
    "        previous = messagelist[0]\n",
    "        for item in messagelist:\n",
    "            for ix in range(64):\n",
    "                if item[ix] != previous[ix]:\n",
    "                    bit_flip[ix] = bit_flip[ix] + 1\n",
    "            previous = item\n",
    "        for ix in range(64):\n",
    "            bit_flip[ix] = bit_flip[ix] / trace_len\n",
    "        bit_Flips.append(bit_flip)\n",
    "    return bit_Flips"
   ]
  },
  {
   "cell_type": "code",
   "execution_count": 62,
   "id": "8ddc3fec",
   "metadata": {},
   "outputs": [],
   "source": [
    "bit_flips = get_bit_Flips(test_data)"
   ]
  },
  {
   "cell_type": "code",
   "execution_count": 63,
   "id": "0e17dd4c",
   "metadata": {},
   "outputs": [
    {
     "data": {
      "text/plain": [
       "array([0.   , 0.   , 0.   , 0.   , 0.   , 0.   , 0.   , 0.   , 0.   ,\n",
       "       0.   , 0.   , 0.001, 0.   , 0.   , 0.   , 0.   , 0.   , 0.   ,\n",
       "       0.   , 0.   , 0.   , 0.   , 0.   , 0.001, 0.   , 0.001, 0.   ,\n",
       "       0.   , 0.   , 0.   , 0.   , 0.   , 0.001, 0.001, 0.002, 0.003,\n",
       "       0.007, 0.014, 0.028, 0.057, 0.   , 0.   , 0.   , 0.   , 0.   ,\n",
       "       0.   , 0.   , 0.   , 0.   , 0.   , 0.   , 0.   , 0.   , 0.   ,\n",
       "       0.   , 0.   , 0.   , 0.   , 0.   , 0.   , 0.   , 0.   , 0.   ,\n",
       "       0.   ])"
      ]
     },
     "execution_count": 63,
     "metadata": {},
     "output_type": "execute_result"
    }
   ],
   "source": [
    "bit_flips[0]"
   ]
  },
  {
   "cell_type": "code",
   "execution_count": 75,
   "id": "0258bf16",
   "metadata": {},
   "outputs": [],
   "source": [
    "def get_change_nochange_bits(datatrace):\n",
    "    nochange_bits = []\n",
    "    change_bits = []\n",
    "    previous = -1\n",
    "    l = -1\n",
    "    r = -1\n",
    "    lc = -1\n",
    "    rc = -1\n",
    "    for i in range(64):\n",
    "        if previous == -1 and datatrace[i] == 0:\n",
    "            l = i\n",
    "        elif previous == 0 and datatrace[i] != 0:\n",
    "            r = i-1\n",
    "            lc = i\n",
    "            nochange_bits.append((l,r))\n",
    "        elif previous > 0 and datatrace[i] == 0:\n",
    "            l = i\n",
    "            rc = i-1\n",
    "            change_bits.append((lc,rc))\n",
    "        previous = datatrace[i]\n",
    "    return nochange_bits,change_bits"
   ]
  },
  {
   "cell_type": "code",
   "execution_count": 69,
   "id": "50f2308f",
   "metadata": {},
   "outputs": [],
   "source": [
    "# nochange_bits,change_bits = get_change_nochange_bits(bit_flips[20])\n",
    "# nochange_bits,change_bits"
   ]
  },
  {
   "cell_type": "code",
   "execution_count": 88,
   "id": "cfc90363",
   "metadata": {},
   "outputs": [],
   "source": [
    "# test_data[0].shape"
   ]
  },
  {
   "cell_type": "code",
   "execution_count": 86,
   "id": "8bb1f863",
   "metadata": {},
   "outputs": [],
   "source": [
    "# test_data[0][:,2:4]==1\n",
    "# .any ()"
   ]
  },
  {
   "cell_type": "code",
   "execution_count": 87,
   "id": "3e9a0474",
   "metadata": {},
   "outputs": [],
   "source": [
    "# test_data[0].any(1).shape"
   ]
  },
  {
   "cell_type": "code",
   "execution_count": 253,
   "id": "76b39fec",
   "metadata": {},
   "outputs": [],
   "source": [
    "# def stage0(idTrace,Tp0,Tp1,nochange_bits,change_bits):\n",
    "#     bits_nochange_label = []\n",
    "#     other_signals = []\n",
    "#     for (l,r) in nochange_bits:\n",
    "#         if True in (idTrace[:,l:r+1] == 1):\n",
    "#             bits_nochange_label.append('CONST')\n",
    "#             other_signals.append((l,r))\n",
    "#             nochange_bits.remove((l,r))\n",
    "#             break\n",
    "#         elif r - l < Tp0:\n",
    "#             reinserted = False\n",
    "#             for j in range(len(change_bits)):\n",
    "#                 (l_c,r_c) = change_bits[j]\n",
    "#                 if l_c == r + 1 and r_c - l_c > Tp1:\n",
    "#                     l_c = l\n",
    "#                     reinserted = False\n",
    "#                     print(\"true\")\n",
    "#                     nochange_bits.remove((l,r))\n",
    "#                     change_bits[j] = (l_c,r_c)\n",
    "#                     break\n",
    "#             if reinserted == False:\n",
    "#                 bits_nochange_label.append('UNUSED')\n",
    "#                 other_signals.append((l,r))\n",
    "#                 nochange_bits.remove((l,r))\n",
    "#     return bits_nochange_label,nochange_bits,change_bits,other_signals"
   ]
  },
  {
   "cell_type": "code",
   "execution_count": 234,
   "id": "efacdbfb",
   "metadata": {},
   "outputs": [
    {
     "data": {
      "text/plain": [
       "(['UNUSED', 'CONST'],\n",
       " [(0, 10), (12, 22), (24, 24), (26, 31), (23, 23), (25, 25), (32, 39)],\n",
       " [(11, 11), (23, 23), (25, 25), (32, 39)])"
      ]
     },
     "execution_count": 234,
     "metadata": {},
     "output_type": "execute_result"
    }
   ],
   "source": [
    "Tp0=2\n",
    "Tp1=3\n",
    "stage0(test_data[0],Tp0,Tp1,nochange_bits,change_bits)"
   ]
  },
  {
   "cell_type": "code",
   "execution_count": 73,
   "id": "7d91a1ed",
   "metadata": {},
   "outputs": [],
   "source": [
    "def stage0(idTrace,Tp0,Tp1,nochange_bits,change_bits):\n",
    "    bits_nochange_label = []\n",
    "    other_signals = []\n",
    "    for (l,r) in nochange_bits:\n",
    "        if True in (idTrace[:,l:r+1] == 1):\n",
    "            bits_nochange_label.append('CONST')\n",
    "            other_signals.append((l,r))\n",
    "            nochange_bits.remove((l,r))\n",
    "            break\n",
    "        elif r - l < Tp0:\n",
    "            reinserted = False\n",
    "            for j in range(len(change_bits)):\n",
    "                (l_c,r_c) = change_bits[j]\n",
    "                if l_c == r + 1 and r_c - l_c > Tp1:\n",
    "                    l_c = l\n",
    "                    reinserted = False\n",
    "                    print(\"true\")\n",
    "                    nochange_bits.remove((l,r))\n",
    "                    change_bits[j] = (l_c,r_c)\n",
    "                    break\n",
    "            if reinserted == False:\n",
    "                bits_nochange_label.append('UNUSED')\n",
    "                other_signals.append((l,r))\n",
    "                nochange_bits.remove((l,r))\n",
    "    return bits_nochange_label,nochange_bits,change_bits,other_signals\n",
    "def stage1(bitFlip,Tp2,change_bits):\n",
    "    ref = []\n",
    "    for l_c,r_c in change_bits:\n",
    "        prev = bitFlip[l_c]\n",
    "        ixS = l_c\n",
    "        for ix in range(l_c,r_c+1):\n",
    "            if bitFlip[ix] < prev*(1-Tp2):\n",
    "                ref.append((ixS, ix-1))\n",
    "                ixS = ix\n",
    "            prev = bitFlip[ix]\n",
    "        ref.append((ixS, r_c))\n",
    "    return ref\n",
    "def stage2(idTrace,Tp3,nochange_bits,res):\n",
    "    other_siganls = nochange_bits\n",
    "    for l_c,r_c in res:\n",
    "        num = np.unique(idTrace[:,l_c,r_c+1], axis=0).shape[0]\n",
    "        if num <= Tp3:\n",
    "            other_siganls.append((l_c,r_c))\n",
    "            res.remove((l_c,r_c))\n",
    "    return other_siganls,res"
   ]
  },
  {
   "cell_type": "code",
   "execution_count": 207,
   "id": "77620568",
   "metadata": {},
   "outputs": [],
   "source": [
    "#  np.unique(test_data[0][:,2:4], axis=0).shape[0]"
   ]
  },
  {
   "cell_type": "code",
   "execution_count": null,
   "id": "6cf1a77e",
   "metadata": {},
   "outputs": [],
   "source": [
    "# def matchCounter(sublist):\n",
    "#     if(sublist[-1] != 1):\n",
    "#         return -1\n",
    "#     ixS = len(sublist)-1\n",
    "#     for i in range(len(sublist)-2,-1,-1):\n",
    "#         if sublist[i] == (sublist[i+1] / 2):\n",
    "#             ixS = i\n",
    "#     return ixS\n",
    "# def stage3(ref, bit_flip):\n",
    "#     rRef = []\n",
    "#     for sign in ref:\n",
    "#         (ixS, ixE) = sign\n",
    "#         mu = np.mean(bit_flip[ixS: ixE+1])\n",
    "#         std = np.std(bit_flip[ixS: ixE+1])\n",
    "#         if magnitude[ixE] == 0:\n",
    "#             Sctr = matchCounter(bit_flip[ixS: ixE+1])\n",
    "# #             print(Sctr)\n",
    "#             if Sctr >= 0:\n",
    "#                 rRef.append((ixS, Sctr, \"PHYSVAL\"))\n",
    "#                 rRef.append((Sctr, ixE, \"COUNTER\"))\n",
    "#         else:\n",
    "#             exit = False\n",
    "#             for Scrc in range(ixS, ixE+1):\n",
    "#                 if not exit:\n",
    "# #                     print(Scrc)\n",
    "#                     if sum(magnitude[Scrc: (ixE+1)]) == 0 and mu >= (0.5-std) and mu <= (0.5+std):\n",
    "#                         rRef.append((Scrc, ixE, \"CRC\"))\n",
    "#                         rRef.append((ixS, Scrc, \"PHYSVAL\"))\n",
    "#                         exit = True\n",
    "#                 else:\n",
    "#                     break\n",
    "#     return rRef"
   ]
  },
  {
   "cell_type": "code",
   "execution_count": 235,
   "id": "6226fd9a",
   "metadata": {},
   "outputs": [],
   "source": [
    "# def stage(bitFlip,Tp2):\n",
    "#     ref = []\n",
    "#     prev = bitFlip[0]\n",
    "#     ixS = 0\n",
    "#     for ix in range(64):\n",
    "# #         if bitFlip[ix] < prev*(1-Tp2):\n",
    "#         if bitFlip[ix] < prev:\n",
    "#             ref.append((ixS, ix-1))\n",
    "#             ixS = ix\n",
    "#         prev = bitFlip[ix]\n",
    "#     ref.append((ixS, 63))\n",
    "#     return ref"
   ]
  },
  {
   "cell_type": "code",
   "execution_count": 131,
   "id": "88efb613",
   "metadata": {},
   "outputs": [
    {
     "data": {
      "text/plain": [
       "[(31, 31), (34, 39), (44, 47), (49, 55)]"
      ]
     },
     "execution_count": 131,
     "metadata": {},
     "output_type": "execute_result"
    }
   ],
   "source": [
    "Tp2 = 0.01\n",
    "res = stage1(bit_flips[20],Tp2,change_bits)\n",
    "res"
   ]
  },
  {
   "cell_type": "code",
   "execution_count": 72,
   "id": "f5ec6551",
   "metadata": {},
   "outputs": [],
   "source": [
    "def boundary_to_pred(boundary):\n",
    "    pred = np.zeros(64)\n",
    "    for l_c,r_c in boundary:\n",
    "        pred[r_c] = 1\n",
    "    return pred"
   ]
  },
  {
   "cell_type": "code",
   "execution_count": 138,
   "id": "fe171b9a",
   "metadata": {},
   "outputs": [
    {
     "data": {
      "text/plain": [
       "array([0., 0., 0., 0., 0., 0., 0., 0., 0., 0., 0., 0., 0., 0., 0., 0., 0.,\n",
       "       0., 0., 0., 0., 0., 0., 0., 0., 0., 0., 0., 0., 0., 1., 1., 0., 1.,\n",
       "       0., 0., 0., 0., 0., 1., 0., 0., 0., 1., 0., 0., 0., 1., 1., 0., 0.,\n",
       "       0., 0., 0., 0., 1., 0., 0., 0., 0., 0., 0., 0., 0.])"
      ]
     },
     "execution_count": 138,
     "metadata": {},
     "output_type": "execute_result"
    }
   ],
   "source": [
    "nochange_bits.extend(res)\n",
    "boundary = nochange_bits\n",
    "boundary_to_pred(boundary)"
   ]
  },
  {
   "cell_type": "code",
   "execution_count": 256,
   "id": "95059e3c",
   "metadata": {},
   "outputs": [],
   "source": [
    "Tp0=3\n",
    "Tp1=3\n",
    "Tp2 = 0.23025850929940458\n",
    "pred = []\n",
    "bit_flips = get_bit_Flips(test_data)\n",
    "for i in range(len(bit_flips)):\n",
    "    nochange_bits,change_bits = get_change_nochange_bits(bit_flips[i])\n",
    "    bits_nochange_label,nochange_bits,change_bits,other_signals = stage0(test_data[i],Tp0,Tp1,nochange_bits,change_bits)\n",
    "    res = stage1(bit_flips[i],Tp2,change_bits)\n",
    "    nochange_bits.extend(res)\n",
    "    boundary = nochange_bits\n",
    "    pred.extend(boundary_to_pred(boundary))"
   ]
  },
  {
   "cell_type": "code",
   "execution_count": 83,
   "id": "1dabbca0",
   "metadata": {
    "scrolled": true
   },
   "outputs": [],
   "source": [
    "Tp0=3\n",
    "Tp1=3\n",
    "Tp2 = 0.23025850929940458\n",
    "pred = []\n",
    "bounds = []\n",
    "bit_flips = get_bit_Flips(test_data)\n",
    "for i in range(len(bit_flips)):\n",
    "    nochange_bits,change_bits = get_change_nochange_bits(bit_flips[i])\n",
    "    bits_nochange_label,nochange_bits,change_bits,other_signals = stage0(test_data[i],Tp0,Tp1,nochange_bits,change_bits)\n",
    "    for (l,r) in nochange_bits:\n",
    "        for j in range(len(change_bits)):\n",
    "            (l_c,r_c) = change_bits[j]\n",
    "            if l_c == r + 1:\n",
    "                reinserted = False\n",
    "                nochange_bits.remove((l,r))\n",
    "                nochange_bits.append((l,r_c))\n",
    "                change_bits.remove((l_c,r_c))\n",
    "                break\n",
    "    boundary = nochange_bits\n",
    "    res = stage1(bit_flips[i],Tp2,boundary)\n",
    "#     res.extend(other_signals)\n",
    "    boundary = res\n",
    "    bounds.append(boundary)\n",
    "#     pred.extend(boundary_to_pred(boundary))\n",
    "#     pred.extend(position2preds(boundary))\n",
    "#     position2preds\n",
    "pred = position2preds(bounds)"
   ]
  },
  {
   "cell_type": "code",
   "execution_count": 93,
   "id": "101025e0",
   "metadata": {},
   "outputs": [
    {
     "data": {
      "text/plain": [
       "[(12, 22), (0, 11), (26, 39)]"
      ]
     },
     "execution_count": 93,
     "metadata": {},
     "output_type": "execute_result"
    }
   ],
   "source": [
    "bounds[0]"
   ]
  },
  {
   "cell_type": "code",
   "execution_count": 94,
   "id": "72541c34",
   "metadata": {},
   "outputs": [
    {
     "data": {
      "text/plain": [
       "array([0., 0., 0., 0., 0., 0., 0., 0., 0., 0., 0., 1., 0., 0., 0., 0., 0.,\n",
       "       0., 0., 0., 0., 0., 1., 0., 0., 0., 0., 0., 0., 0., 0., 0., 0., 0.,\n",
       "       0., 0., 0., 0., 0., 1., 0., 0., 0., 0., 0., 0., 0., 0., 0., 0., 0.,\n",
       "       0., 0., 0., 0., 0., 0., 0., 0., 0., 0., 0., 0., 0.])"
      ]
     },
     "execution_count": 94,
     "metadata": {},
     "output_type": "execute_result"
    }
   ],
   "source": [
    "pred[0]"
   ]
  },
  {
   "cell_type": "code",
   "execution_count": 78,
   "id": "1cfbf5cb",
   "metadata": {},
   "outputs": [
    {
     "data": {
      "text/plain": [
       "63"
      ]
     },
     "execution_count": 78,
     "metadata": {},
     "output_type": "execute_result"
    }
   ],
   "source": [
    "get_signal_position_count(test_data,pred,READ_test_labels)"
   ]
  },
  {
   "cell_type": "code",
   "execution_count": 84,
   "id": "6f2c817a",
   "metadata": {},
   "outputs": [
    {
     "name": "stdout",
     "output_type": "stream",
     "text": [
      "测试集:\n",
      "预测正确数量,训练集样本量:\n",
      "5417 5568\n",
      "测试集精确度等指标：\n",
      "              precision    recall  f1-score   support\n",
      "\n",
      "         0.0       0.98      0.99      0.99      5417\n",
      "         1.0       0.50      0.43      0.46       151\n",
      "\n",
      "    accuracy                           0.97      5568\n",
      "   macro avg       0.74      0.71      0.72      5568\n",
      "weighted avg       0.97      0.97      0.97      5568\n",
      "\n",
      "混淆矩阵：\n",
      "[[5352   65]\n",
      " [  86   65]]\n"
     ]
    }
   ],
   "source": [
    "from sklearn import metrics\n",
    "print(\"测试集:\")\n",
    "preds_msb_1D = pred.flatten()\n",
    "test_labels_1D = test_labels.flatten()\n",
    "print(\"预测正确数量,训练集样本量:\")\n",
    "print(sum(preds_msb_1D == test_labels_1D),len(test_labels_1D))\n",
    "print(\"测试集精确度等指标：\")\n",
    "print(metrics.classification_report(test_labels_1D,preds_msb_1D))\n",
    "print(\"混淆矩阵：\")\n",
    "print(metrics.confusion_matrix(test_labels_1D,preds_msb_1D))"
   ]
  },
  {
   "cell_type": "code",
   "execution_count": 85,
   "id": "a6445c81",
   "metadata": {},
   "outputs": [
    {
     "data": {
      "text/plain": [
       "65"
      ]
     },
     "execution_count": 85,
     "metadata": {},
     "output_type": "execute_result"
    }
   ],
   "source": [
    "count  = 0\n",
    "for i in range(len(preds_msb_1D)):\n",
    "    if preds_msb_1D[i] == 1 and test_labels_1D[i] == 1:\n",
    "        count  = count + 1\n",
    "count"
   ]
  },
  {
   "cell_type": "code",
   "execution_count": 86,
   "id": "584604ce",
   "metadata": {},
   "outputs": [
    {
     "data": {
      "text/plain": [
       "130.0"
      ]
     },
     "execution_count": 86,
     "metadata": {},
     "output_type": "execute_result"
    }
   ],
   "source": [
    "preds_msb_1D.sum()"
   ]
  },
  {
   "cell_type": "code",
   "execution_count": 87,
   "id": "1cf658b0",
   "metadata": {},
   "outputs": [
    {
     "data": {
      "text/plain": [
       "151.0"
      ]
     },
     "execution_count": 87,
     "metadata": {},
     "output_type": "execute_result"
    }
   ],
   "source": [
    "test_labels_1D.sum()"
   ]
  },
  {
   "cell_type": "code",
   "execution_count": 209,
   "id": "2fbdd522",
   "metadata": {},
   "outputs": [
    {
     "data": {
      "text/plain": [
       "0.23025850929940458"
      ]
     },
     "execution_count": 209,
     "metadata": {},
     "output_type": "execute_result"
    }
   ],
   "source": [
    "np.log(10)/10"
   ]
  },
  {
   "cell_type": "code",
   "execution_count": null,
   "id": "97b77687",
   "metadata": {},
   "outputs": [],
   "source": []
  }
 ],
 "metadata": {
  "interpreter": {
   "hash": "0eb6fa3a81e2d7b30bb546db1db4686bad2879ee756f88b2ac00a1380e074e9e"
  },
  "kernelspec": {
   "display_name": "Python [conda env:keras_py3.7]",
   "language": "python",
   "name": "conda-env-keras_py3.7-py"
  },
  "language_info": {
   "codemirror_mode": {
    "name": "ipython",
    "version": 3
   },
   "file_extension": ".py",
   "mimetype": "text/x-python",
   "name": "python",
   "nbconvert_exporter": "python",
   "pygments_lexer": "ipython3",
   "version": "3.7.13"
  }
 },
 "nbformat": 4,
 "nbformat_minor": 5
}
