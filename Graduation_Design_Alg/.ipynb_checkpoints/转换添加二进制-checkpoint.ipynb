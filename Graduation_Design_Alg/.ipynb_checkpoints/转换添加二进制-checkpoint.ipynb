{
 "cells": [
  {
   "cell_type": "code",
   "execution_count": 32,
   "id": "ef75833c",
   "metadata": {},
   "outputs": [],
   "source": [
    "import pandas as pd\n",
    "import numpy as np\n",
    "import matplotlib.pyplot as plt\n",
    "from sklearn.neighbors import KernelDensity\n",
    "\n",
    "import matplotlib\n",
    "import seaborn as sns\n",
    "import statsmodels.nonparametric.api as smnp"
   ]
  },
  {
   "cell_type": "markdown",
   "id": "3744c15d",
   "metadata": {},
   "source": [
    "读入数据"
   ]
  },
  {
   "cell_type": "code",
   "execution_count": 36,
   "id": "e53c2cdd",
   "metadata": {},
   "outputs": [
    {
     "name": "stdout",
     "output_type": "stream",
     "text": [
      "D:\\cadillac原始数据集\\Cadillac\\001.txt\n",
      "D:\\cadillac原始数据集\\Cadillac\\002.txt\n",
      "D:\\cadillac原始数据集\\Cadillac\\003.txt\n",
      "D:\\cadillac原始数据集\\Cadillac\\004.txt\n",
      "D:\\cadillac原始数据集\\Cadillac\\005.txt\n",
      "D:\\cadillac原始数据集\\Cadillac\\006.txt\n",
      "D:\\cadillac原始数据集\\Cadillac\\007.txt\n",
      "D:\\cadillac原始数据集\\Cadillac\\008.txt\n",
      "D:\\cadillac原始数据集\\Cadillac\\009.txt\n",
      "D:\\cadillac原始数据集\\Cadillac\\010.txt\n",
      "D:\\cadillac原始数据集\\Cadillac\\011.txt\n",
      "D:\\cadillac原始数据集\\Cadillac\\012.txt\n",
      "D:\\cadillac原始数据集\\Cadillac\\013.txt\n",
      "D:\\cadillac原始数据集\\Cadillac\\014.txt\n",
      "D:\\cadillac原始数据集\\Cadillac\\015.txt\n",
      "D:\\cadillac原始数据集\\Cadillac\\016.txt\n",
      "D:\\cadillac原始数据集\\Cadillac\\017.txt\n",
      "D:\\cadillac原始数据集\\Cadillac\\018.txt\n",
      "D:\\cadillac原始数据集\\Cadillac\\019.txt\n",
      "D:\\cadillac原始数据集\\Cadillac\\020.txt\n",
      "D:\\cadillac原始数据集\\Cadillac\\021.txt\n"
     ]
    },
    {
     "name": "stderr",
     "output_type": "stream",
     "text": [
      "IOPub data rate exceeded.\n",
      "The notebook server will temporarily stop sending output\n",
      "to the client in order to avoid crashing it.\n",
      "To change this limit, set the config variable\n",
      "`--NotebookApp.iopub_data_rate_limit`.\n",
      "\n",
      "Current values:\n",
      "NotebookApp.iopub_data_rate_limit=1000000.0 (bytes/sec)\n",
      "NotebookApp.rate_limit_window=3.0 (secs)\n",
      "\n"
     ]
    }
   ],
   "source": [
    "\n",
    "import os\n",
    "import pandas as pd\n",
    "path =('D:\\cadillac原始数据集\\Cadillac')#文件夹目录\n",
    "#('D:\\\\NEW\\\\ChevyNew\\\\15000001_CAN.csv')\n",
    "files= os.listdir(path) #得到文件夹下的所有文件名称\n",
    "txts = []\n",
    "for file in files: #遍历文件夹\n",
    "    position = path+'\\\\'+ file\n",
    "    print (position)           \n",
    "    with open(position, \"r\",encoding='utf-8') as f:    #打开文件        \n",
    "        lines = f.readlines()   #读取文件中的一行\n",
    "        for line in lines:\n",
    "            txts.append(line)\n",
    "        f.close()\n",
    "print (txts)"
   ]
  },
  {
   "cell_type": "code",
   "execution_count": null,
   "id": "04781580",
   "metadata": {},
   "outputs": [],
   "source": [
    "# print('D:\\cadillac原始数据集\\Cadillac\\CadillacCSV_001_csv')"
   ]
  },
  {
   "cell_type": "markdown",
   "id": "15a93d77",
   "metadata": {},
   "source": [
    "转成CSV"
   ]
  },
  {
   "cell_type": "code",
   "execution_count": 38,
   "id": "d16c7cf6",
   "metadata": {},
   "outputs": [],
   "source": [
    "import os\n",
    "import csv\n",
    "# ============================说明==================================\n",
    "# 把要转换成csv文件的txt文件路径复制到rootdir下，运行程序后，在..\\\\**\\\\日期\\\\**\\\\**\\\\recordvideo\n",
    "# 目录下会生成txt文档对应的csv格式文档，且带表头。\n",
    "# ============================说明==================================\n",
    " \n",
    "rootdir = ('D:\\cadillac原始数据集\\Cadillac')#文件夹目录\n",
    " \n",
    "def findtxt(path, ret):\n",
    "    \"\"\"Finding the *.txt file in specify path\"\"\"\n",
    "    filelist = os.listdir(path)\n",
    "    for filename in filelist:\n",
    "        de_path = os.path.join(path, filename)\n",
    "        if os.path.isfile(de_path):\n",
    "            if de_path.endswith(\".txt\"):  # Specify to find the txt file.\n",
    "                ret.append(de_path)\n",
    "        else:\n",
    "            findtxt(de_path, ret)\n",
    "def txt2csv(filepath, data):\n",
    "    with open(filepath + '.csv', 'w', newline='') as csvfile:\n",
    "        spamwriter = csv.writer(csvfile)\n",
    "        # 添加csv文件的表头\n",
    "        spamwriter.writerow(['**', '**', '**', '**'])\n",
    "        with open(filepath, 'r') as file_object:\n",
    "            lines = file_object.readlines()\n",
    "            # 清除lines list中换行符\\n, 空格符''\n",
    "            lines = [x.strip('\\n') for x in lines if x.strip() != '']\n",
    "            for i, line in enumerate(lines):\n",
    "                data.append([])\n",
    "                elements = line.split(' ')\n",
    "                # 清除单行line 中存在的空格符字符串''\n",
    "                elements = [x for x in elements if x != '']\n",
    "                for element in elements:\n",
    "                    data[i].append(element)\n",
    "        # 将txt文件内容写入csv文件中\n",
    "        spamwriter.writerows(data)\n",
    " \n",
    "if __name__ == \"__main__\":\n",
    "    ret = []\n",
    "    findtxt(rootdir, ret)\n",
    "    for ret_ in ret:\n",
    "        data = []\n",
    "        txt2csv(ret_, data)"
   ]
  },
  {
   "cell_type": "code",
   "execution_count": 50,
   "id": "721be19a",
   "metadata": {},
   "outputs": [
    {
     "ename": "TypeError",
     "evalue": "str() argument 2 must be str, not int",
     "output_type": "error",
     "traceback": [
      "\u001b[1;31m---------------------------------------------------------------------------\u001b[0m",
      "\u001b[1;31mTypeError\u001b[0m                                 Traceback (most recent call last)",
      "\u001b[1;32m<ipython-input-50-9ad11e6af089>\u001b[0m in \u001b[0;36m<module>\u001b[1;34m\u001b[0m\n\u001b[0;32m      6\u001b[0m \u001b[1;32mfor\u001b[0m \u001b[0mi\u001b[0m \u001b[1;32min\u001b[0m \u001b[0mdata_name\u001b[0m\u001b[1;33m:\u001b[0m\u001b[1;33m\u001b[0m\u001b[1;33m\u001b[0m\u001b[0m\n\u001b[0;32m      7\u001b[0m     \u001b[0mdata\u001b[0m \u001b[1;33m=\u001b[0m \u001b[0mpd\u001b[0m\u001b[1;33m.\u001b[0m\u001b[0mread_csv\u001b[0m\u001b[1;33m(\u001b[0m\u001b[1;34m'D:\\CadillacCSV\\{}'\u001b[0m\u001b[1;33m.\u001b[0m\u001b[0mformat\u001b[0m\u001b[1;33m(\u001b[0m\u001b[0mi\u001b[0m\u001b[1;33m)\u001b[0m\u001b[1;33m,\u001b[0m\u001b[0msep\u001b[0m\u001b[1;33m=\u001b[0m\u001b[1;34m','\u001b[0m\u001b[1;33m)\u001b[0m\u001b[1;33m\u001b[0m\u001b[1;33m\u001b[0m\u001b[0m\n\u001b[1;32m----> 8\u001b[1;33m     \u001b[0mdata\u001b[0m\u001b[1;33m[\u001b[0m\u001b[1;33m(\u001b[0m\u001b[1;34m'bin'\u001b[0m\u001b[1;33m)\u001b[0m\u001b[1;33m]\u001b[0m \u001b[1;33m=\u001b[0m \u001b[0mdata\u001b[0m\u001b[1;33m[\u001b[0m\u001b[1;34m'Data'\u001b[0m\u001b[1;33m]\u001b[0m\u001b[1;33m.\u001b[0m\u001b[0mapply\u001b[0m\u001b[1;33m(\u001b[0m\u001b[1;32mlambda\u001b[0m \u001b[0mx\u001b[0m\u001b[1;33m:\u001b[0m\u001b[0mbin\u001b[0m\u001b[1;33m(\u001b[0m\u001b[0mstr\u001b[0m\u001b[1;33m(\u001b[0m\u001b[0mx\u001b[0m\u001b[1;33m,\u001b[0m\u001b[1;36m16\u001b[0m\u001b[1;33m)\u001b[0m\u001b[1;33m)\u001b[0m\u001b[1;33m[\u001b[0m\u001b[1;36m2\u001b[0m\u001b[1;33m:\u001b[0m\u001b[1;33m]\u001b[0m\u001b[1;33m.\u001b[0m\u001b[0mzfill\u001b[0m\u001b[1;33m(\u001b[0m\u001b[1;36m64\u001b[0m\u001b[1;33m)\u001b[0m\u001b[1;33m)\u001b[0m\u001b[1;33m\u001b[0m\u001b[1;33m\u001b[0m\u001b[0m\n\u001b[0m\u001b[0;32m      9\u001b[0m     \u001b[0mdata\u001b[0m\u001b[1;33m.\u001b[0m\u001b[0mto_csv\u001b[0m\u001b[1;33m(\u001b[0m\u001b[1;34m'D:\\Cadillac'\u001b[0m\u001b[1;33m.\u001b[0m\u001b[0mformat\u001b[0m\u001b[1;33m(\u001b[0m\u001b[0mi\u001b[0m\u001b[1;33m)\u001b[0m\u001b[1;33m,\u001b[0m\u001b[0mindex\u001b[0m\u001b[1;33m=\u001b[0m\u001b[1;32mNone\u001b[0m\u001b[1;33m)\u001b[0m\u001b[1;33m\u001b[0m\u001b[1;33m\u001b[0m\u001b[0m\n",
      "\u001b[1;32mD:\\Software\\Anaconda3\\lib\\site-packages\\pandas\\core\\series.py\u001b[0m in \u001b[0;36mapply\u001b[1;34m(self, func, convert_dtype, args, **kwds)\u001b[0m\n\u001b[0;32m   4136\u001b[0m             \u001b[1;32melse\u001b[0m\u001b[1;33m:\u001b[0m\u001b[1;33m\u001b[0m\u001b[1;33m\u001b[0m\u001b[0m\n\u001b[0;32m   4137\u001b[0m                 \u001b[0mvalues\u001b[0m \u001b[1;33m=\u001b[0m \u001b[0mself\u001b[0m\u001b[1;33m.\u001b[0m\u001b[0mastype\u001b[0m\u001b[1;33m(\u001b[0m\u001b[0mobject\u001b[0m\u001b[1;33m)\u001b[0m\u001b[1;33m.\u001b[0m\u001b[0m_values\u001b[0m\u001b[1;33m\u001b[0m\u001b[1;33m\u001b[0m\u001b[0m\n\u001b[1;32m-> 4138\u001b[1;33m                 \u001b[0mmapped\u001b[0m \u001b[1;33m=\u001b[0m \u001b[0mlib\u001b[0m\u001b[1;33m.\u001b[0m\u001b[0mmap_infer\u001b[0m\u001b[1;33m(\u001b[0m\u001b[0mvalues\u001b[0m\u001b[1;33m,\u001b[0m \u001b[0mf\u001b[0m\u001b[1;33m,\u001b[0m \u001b[0mconvert\u001b[0m\u001b[1;33m=\u001b[0m\u001b[0mconvert_dtype\u001b[0m\u001b[1;33m)\u001b[0m\u001b[1;33m\u001b[0m\u001b[1;33m\u001b[0m\u001b[0m\n\u001b[0m\u001b[0;32m   4139\u001b[0m \u001b[1;33m\u001b[0m\u001b[0m\n\u001b[0;32m   4140\u001b[0m         \u001b[1;32mif\u001b[0m \u001b[0mlen\u001b[0m\u001b[1;33m(\u001b[0m\u001b[0mmapped\u001b[0m\u001b[1;33m)\u001b[0m \u001b[1;32mand\u001b[0m \u001b[0misinstance\u001b[0m\u001b[1;33m(\u001b[0m\u001b[0mmapped\u001b[0m\u001b[1;33m[\u001b[0m\u001b[1;36m0\u001b[0m\u001b[1;33m]\u001b[0m\u001b[1;33m,\u001b[0m \u001b[0mSeries\u001b[0m\u001b[1;33m)\u001b[0m\u001b[1;33m:\u001b[0m\u001b[1;33m\u001b[0m\u001b[1;33m\u001b[0m\u001b[0m\n",
      "\u001b[1;32mpandas\\_libs\\lib.pyx\u001b[0m in \u001b[0;36mpandas._libs.lib.map_infer\u001b[1;34m()\u001b[0m\n",
      "\u001b[1;32m<ipython-input-50-9ad11e6af089>\u001b[0m in \u001b[0;36m<lambda>\u001b[1;34m(x)\u001b[0m\n\u001b[0;32m      6\u001b[0m \u001b[1;32mfor\u001b[0m \u001b[0mi\u001b[0m \u001b[1;32min\u001b[0m \u001b[0mdata_name\u001b[0m\u001b[1;33m:\u001b[0m\u001b[1;33m\u001b[0m\u001b[1;33m\u001b[0m\u001b[0m\n\u001b[0;32m      7\u001b[0m     \u001b[0mdata\u001b[0m \u001b[1;33m=\u001b[0m \u001b[0mpd\u001b[0m\u001b[1;33m.\u001b[0m\u001b[0mread_csv\u001b[0m\u001b[1;33m(\u001b[0m\u001b[1;34m'D:\\CadillacCSV\\{}'\u001b[0m\u001b[1;33m.\u001b[0m\u001b[0mformat\u001b[0m\u001b[1;33m(\u001b[0m\u001b[0mi\u001b[0m\u001b[1;33m)\u001b[0m\u001b[1;33m,\u001b[0m\u001b[0msep\u001b[0m\u001b[1;33m=\u001b[0m\u001b[1;34m','\u001b[0m\u001b[1;33m)\u001b[0m\u001b[1;33m\u001b[0m\u001b[1;33m\u001b[0m\u001b[0m\n\u001b[1;32m----> 8\u001b[1;33m     \u001b[0mdata\u001b[0m\u001b[1;33m[\u001b[0m\u001b[1;33m(\u001b[0m\u001b[1;34m'bin'\u001b[0m\u001b[1;33m)\u001b[0m\u001b[1;33m]\u001b[0m \u001b[1;33m=\u001b[0m \u001b[0mdata\u001b[0m\u001b[1;33m[\u001b[0m\u001b[1;34m'Data'\u001b[0m\u001b[1;33m]\u001b[0m\u001b[1;33m.\u001b[0m\u001b[0mapply\u001b[0m\u001b[1;33m(\u001b[0m\u001b[1;32mlambda\u001b[0m \u001b[0mx\u001b[0m\u001b[1;33m:\u001b[0m\u001b[0mbin\u001b[0m\u001b[1;33m(\u001b[0m\u001b[0mstr\u001b[0m\u001b[1;33m(\u001b[0m\u001b[0mx\u001b[0m\u001b[1;33m,\u001b[0m\u001b[1;36m16\u001b[0m\u001b[1;33m)\u001b[0m\u001b[1;33m)\u001b[0m\u001b[1;33m[\u001b[0m\u001b[1;36m2\u001b[0m\u001b[1;33m:\u001b[0m\u001b[1;33m]\u001b[0m\u001b[1;33m.\u001b[0m\u001b[0mzfill\u001b[0m\u001b[1;33m(\u001b[0m\u001b[1;36m64\u001b[0m\u001b[1;33m)\u001b[0m\u001b[1;33m)\u001b[0m\u001b[1;33m\u001b[0m\u001b[1;33m\u001b[0m\u001b[0m\n\u001b[0m\u001b[0;32m      9\u001b[0m     \u001b[0mdata\u001b[0m\u001b[1;33m.\u001b[0m\u001b[0mto_csv\u001b[0m\u001b[1;33m(\u001b[0m\u001b[1;34m'D:\\Cadillac'\u001b[0m\u001b[1;33m.\u001b[0m\u001b[0mformat\u001b[0m\u001b[1;33m(\u001b[0m\u001b[0mi\u001b[0m\u001b[1;33m)\u001b[0m\u001b[1;33m,\u001b[0m\u001b[0mindex\u001b[0m\u001b[1;33m=\u001b[0m\u001b[1;32mNone\u001b[0m\u001b[1;33m)\u001b[0m\u001b[1;33m\u001b[0m\u001b[1;33m\u001b[0m\u001b[0m\n",
      "\u001b[1;31mTypeError\u001b[0m: str() argument 2 must be str, not int"
     ]
    }
   ],
   "source": [
    "import os\n",
    "import pandas as pd\n",
    "#data_name = os.listdir('D:NEW') \n",
    "data_name = os.listdir('D:\\CadillacCSV')\n",
    "# 获取新的文件夹下的文件名称列表\n",
    "for i in data_name:\n",
    "    data = pd.read_csv('D:\\CadillacCSV\\{}'.format(i))\n",
    "    data['bin'] = data['Data'].apply(lambda x:bin(int(x,16))[2:].zfill(64))\n",
    "    data.to_csv('D:\\CadillacCSV\\{}'.format(i),index=None)"
   ]
  },
  {
   "cell_type": "code",
   "execution_count": null,
   "id": "ea96bc12",
   "metadata": {},
   "outputs": [],
   "source": []
  }
 ],
 "metadata": {
  "kernelspec": {
   "display_name": "Python 3",
   "language": "python",
   "name": "python3"
  },
  "language_info": {
   "codemirror_mode": {
    "name": "ipython",
    "version": 3
   },
   "file_extension": ".py",
   "mimetype": "text/x-python",
   "name": "python",
   "nbconvert_exporter": "python",
   "pygments_lexer": "ipython3",
   "version": "3.8.8"
  },
  "widgets": {
   "application/vnd.jupyter.widget-state+json": {
    "state": {},
    "version_major": 2,
    "version_minor": 0
   }
  }
 },
 "nbformat": 4,
 "nbformat_minor": 5
}
